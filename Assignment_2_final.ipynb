{
  "cells": [
    {
      "cell_type": "markdown",
      "metadata": {
        "id": "u-eU0PVO8hPb"
      },
      "source": [
        "#I- Data Pre-processing"
      ]
    },
    {
      "cell_type": "markdown",
      "metadata": {
        "id": "ZnPyj9d4HVHX"
      },
      "source": [
        "##Imports"
      ]
    },
    {
      "cell_type": "code",
      "execution_count": null,
      "metadata": {
        "id": "34XzVTvlHUXo"
      },
      "outputs": [],
      "source": [
        "# The libraries we will use are imported here, in case of runtime problems\n",
        "import os, shutil  #  file management\n",
        "import sys \n",
        "import requests\n",
        "import zipfile\n",
        "import pandas as pd  #  dataframe management\n",
        "import numpy as np  #  data manipulation\n",
        "import tensorflow as tf\n",
        "from tensorflow import keras\n",
        "from keras import layers\n",
        "from tqdm import tqdm # debugging (progress bars)\n",
        "import matplotlib.pyplot as plt\n",
        "import sklearn\n",
        "import copy\n",
        "import glob\n",
        "import re\n",
        "import json\n",
        "import matplotlib.pyplot as plt\n",
        "\n",
        "# typing\n",
        "from typing import List, Callable, Dict"
      ]
    },
    {
      "cell_type": "markdown",
      "metadata": {
        "id": "0ZKN1XxUICRe"
      },
      "source": [
        "##Dataset Download"
      ]
    },
    {
      "cell_type": "code",
      "execution_count": null,
      "metadata": {
        "id": "apwyPvMy5nge"
      },
      "outputs": [],
      "source": [
        "def save_response_content(response, destination):\n",
        "    CHUNK_SIZE = 32768\n",
        "\n",
        "    with open(destination, \"wb\") as f:\n",
        "        for chunk in response.iter_content(CHUNK_SIZE):\n",
        "            if chunk: # filter out keep-alive new chunks\n",
        "                f.write(chunk)\n",
        "\n",
        "def download_data(data_path):\n",
        "    toy_data_path = os.path.join(data_path, 'fever_data.zip')\n",
        "    toy_data_url_id = \"1wArZhF9_SHW17WKNGeLmX-QTYw9Zscl1\"\n",
        "    toy_url = \"https://docs.google.com/uc?export=download\"\n",
        "\n",
        "    if not os.path.exists(data_path):\n",
        "        os.makedirs(data_path)\n",
        "\n",
        "    if not os.path.exists(toy_data_path):\n",
        "        print(\"Downloading FEVER data splits...\")\n",
        "        with requests.Session() as current_session:\n",
        "            response = current_session.get(toy_url,\n",
        "                                   params={'id': toy_data_url_id},\n",
        "                                   stream=True)\n",
        "        save_response_content(response, toy_data_path)\n",
        "        print(\"Download completed!\")\n",
        "\n",
        "        print(\"Extracting dataset...\")\n",
        "        with zipfile.ZipFile(toy_data_path) as loaded_zip:\n",
        "            loaded_zip.extractall(data_path)\n",
        "        print(\"Extraction completed!\")\n",
        "\n",
        "download_data('Datasets')"
      ]
    },
    {
      "cell_type": "markdown",
      "metadata": {
        "id": "OEFCHf8PH33T"
      },
      "source": [
        "##Create the Dataframe"
      ]
    },
    {
      "cell_type": "code",
      "execution_count": null,
      "metadata": {
        "colab": {
          "base_uri": "https://localhost:8080/",
          "height": 424
        },
        "id": "Reeo1fMEQKaQ",
        "outputId": "f18e95b1-04df-4d42-d619-95d60e454c70"
      },
      "outputs": [
        {
          "output_type": "display_data",
          "data": {
            "text/plain": [
              "                                                    Claim  \\\n",
              "0         Anxiety has been linked with physical symptoms.   \n",
              "1                              Firefox is an application.   \n",
              "2       Keegan-Michael Key played President Barack Oba...   \n",
              "3                    Google Search can find stock quotes.   \n",
              "4       A Good Day to Die Hard was directed solely by ...   \n",
              "...                                                   ...   \n",
              "136089       April was the month Anderson Silva was born.   \n",
              "136090  Anderson Silva is an American Brazilian mixed ...   \n",
              "136091  Anderson Silva is incapable of being a Brazili...   \n",
              "136092  Anderson Silva was born on the month of April ...   \n",
              "136093    Anderson Silva was born on the day of the 15th.   \n",
              "\n",
              "                                                 Evidence      ID  Label  \\\n",
              "0       13\\tFurthermore , anxiety has been linked with...   16387      1   \n",
              "1       0\\tMozilla Firefox -LRB- or simply Firefox -RR...       6      1   \n",
              "2       6\\tIn 2015 , Key appeared at the White House C...   16392      1   \n",
              "3       13\\tThese include synonyms , weather forecasts...   16394      1   \n",
              "4       1\\tThe film was directed by John Moore and wri...   98315      0   \n",
              "...                                                   ...     ...    ...   \n",
              "136089  0\\tAnderson da Silva -LRB- -LSB- ˈɐ̃deʁsõ ˈsiw...  229440      1   \n",
              "136090  0\\tAnderson da Silva -LRB- -LSB- ˈɐ̃deʁsõ ˈsiw...  229443      0   \n",
              "136091  0\\tAnderson da Silva -LRB- -LSB- ˈɐ̃deʁsõ ˈsiw...  229444      0   \n",
              "136092  0\\tAnderson da Silva -LRB- -LSB- ˈɐ̃deʁsõ ˈsiw...  229445      1   \n",
              "136093  0\\tAnderson da Silva -LRB- -LSB- ˈɐ̃deʁsõ ˈsiw...  229448      0   \n",
              "\n",
              "        split  \n",
              "0        test  \n",
              "1        test  \n",
              "2        test  \n",
              "3        test  \n",
              "4        test  \n",
              "...       ...  \n",
              "136089  train  \n",
              "136090  train  \n",
              "136091  train  \n",
              "136092  train  \n",
              "136093  train  \n",
              "\n",
              "[136094 rows x 5 columns]"
            ],
            "text/html": [
              "\n",
              "  <div id=\"df-29531f37-cb4d-4467-8159-ac47697f2cf2\">\n",
              "    <div class=\"colab-df-container\">\n",
              "      <div>\n",
              "<style scoped>\n",
              "    .dataframe tbody tr th:only-of-type {\n",
              "        vertical-align: middle;\n",
              "    }\n",
              "\n",
              "    .dataframe tbody tr th {\n",
              "        vertical-align: top;\n",
              "    }\n",
              "\n",
              "    .dataframe thead th {\n",
              "        text-align: right;\n",
              "    }\n",
              "</style>\n",
              "<table border=\"1\" class=\"dataframe\">\n",
              "  <thead>\n",
              "    <tr style=\"text-align: right;\">\n",
              "      <th></th>\n",
              "      <th>Claim</th>\n",
              "      <th>Evidence</th>\n",
              "      <th>ID</th>\n",
              "      <th>Label</th>\n",
              "      <th>split</th>\n",
              "    </tr>\n",
              "  </thead>\n",
              "  <tbody>\n",
              "    <tr>\n",
              "      <th>0</th>\n",
              "      <td>Anxiety has been linked with physical symptoms.</td>\n",
              "      <td>13\\tFurthermore , anxiety has been linked with...</td>\n",
              "      <td>16387</td>\n",
              "      <td>1</td>\n",
              "      <td>test</td>\n",
              "    </tr>\n",
              "    <tr>\n",
              "      <th>1</th>\n",
              "      <td>Firefox is an application.</td>\n",
              "      <td>0\\tMozilla Firefox -LRB- or simply Firefox -RR...</td>\n",
              "      <td>6</td>\n",
              "      <td>1</td>\n",
              "      <td>test</td>\n",
              "    </tr>\n",
              "    <tr>\n",
              "      <th>2</th>\n",
              "      <td>Keegan-Michael Key played President Barack Oba...</td>\n",
              "      <td>6\\tIn 2015 , Key appeared at the White House C...</td>\n",
              "      <td>16392</td>\n",
              "      <td>1</td>\n",
              "      <td>test</td>\n",
              "    </tr>\n",
              "    <tr>\n",
              "      <th>3</th>\n",
              "      <td>Google Search can find stock quotes.</td>\n",
              "      <td>13\\tThese include synonyms , weather forecasts...</td>\n",
              "      <td>16394</td>\n",
              "      <td>1</td>\n",
              "      <td>test</td>\n",
              "    </tr>\n",
              "    <tr>\n",
              "      <th>4</th>\n",
              "      <td>A Good Day to Die Hard was directed solely by ...</td>\n",
              "      <td>1\\tThe film was directed by John Moore and wri...</td>\n",
              "      <td>98315</td>\n",
              "      <td>0</td>\n",
              "      <td>test</td>\n",
              "    </tr>\n",
              "    <tr>\n",
              "      <th>...</th>\n",
              "      <td>...</td>\n",
              "      <td>...</td>\n",
              "      <td>...</td>\n",
              "      <td>...</td>\n",
              "      <td>...</td>\n",
              "    </tr>\n",
              "    <tr>\n",
              "      <th>136089</th>\n",
              "      <td>April was the month Anderson Silva was born.</td>\n",
              "      <td>0\\tAnderson da Silva -LRB- -LSB- ˈɐ̃deʁsõ ˈsiw...</td>\n",
              "      <td>229440</td>\n",
              "      <td>1</td>\n",
              "      <td>train</td>\n",
              "    </tr>\n",
              "    <tr>\n",
              "      <th>136090</th>\n",
              "      <td>Anderson Silva is an American Brazilian mixed ...</td>\n",
              "      <td>0\\tAnderson da Silva -LRB- -LSB- ˈɐ̃deʁsõ ˈsiw...</td>\n",
              "      <td>229443</td>\n",
              "      <td>0</td>\n",
              "      <td>train</td>\n",
              "    </tr>\n",
              "    <tr>\n",
              "      <th>136091</th>\n",
              "      <td>Anderson Silva is incapable of being a Brazili...</td>\n",
              "      <td>0\\tAnderson da Silva -LRB- -LSB- ˈɐ̃deʁsõ ˈsiw...</td>\n",
              "      <td>229444</td>\n",
              "      <td>0</td>\n",
              "      <td>train</td>\n",
              "    </tr>\n",
              "    <tr>\n",
              "      <th>136092</th>\n",
              "      <td>Anderson Silva was born on the month of April ...</td>\n",
              "      <td>0\\tAnderson da Silva -LRB- -LSB- ˈɐ̃deʁsõ ˈsiw...</td>\n",
              "      <td>229445</td>\n",
              "      <td>1</td>\n",
              "      <td>train</td>\n",
              "    </tr>\n",
              "    <tr>\n",
              "      <th>136093</th>\n",
              "      <td>Anderson Silva was born on the day of the 15th.</td>\n",
              "      <td>0\\tAnderson da Silva -LRB- -LSB- ˈɐ̃deʁsõ ˈsiw...</td>\n",
              "      <td>229448</td>\n",
              "      <td>0</td>\n",
              "      <td>train</td>\n",
              "    </tr>\n",
              "  </tbody>\n",
              "</table>\n",
              "<p>136094 rows × 5 columns</p>\n",
              "</div>\n",
              "      <button class=\"colab-df-convert\" onclick=\"convertToInteractive('df-29531f37-cb4d-4467-8159-ac47697f2cf2')\"\n",
              "              title=\"Convert this dataframe to an interactive table.\"\n",
              "              style=\"display:none;\">\n",
              "        \n",
              "  <svg xmlns=\"http://www.w3.org/2000/svg\" height=\"24px\"viewBox=\"0 0 24 24\"\n",
              "       width=\"24px\">\n",
              "    <path d=\"M0 0h24v24H0V0z\" fill=\"none\"/>\n",
              "    <path d=\"M18.56 5.44l.94 2.06.94-2.06 2.06-.94-2.06-.94-.94-2.06-.94 2.06-2.06.94zm-11 1L8.5 8.5l.94-2.06 2.06-.94-2.06-.94L8.5 2.5l-.94 2.06-2.06.94zm10 10l.94 2.06.94-2.06 2.06-.94-2.06-.94-.94-2.06-.94 2.06-2.06.94z\"/><path d=\"M17.41 7.96l-1.37-1.37c-.4-.4-.92-.59-1.43-.59-.52 0-1.04.2-1.43.59L10.3 9.45l-7.72 7.72c-.78.78-.78 2.05 0 2.83L4 21.41c.39.39.9.59 1.41.59.51 0 1.02-.2 1.41-.59l7.78-7.78 2.81-2.81c.8-.78.8-2.07 0-2.86zM5.41 20L4 18.59l7.72-7.72 1.47 1.35L5.41 20z\"/>\n",
              "  </svg>\n",
              "      </button>\n",
              "      \n",
              "  <style>\n",
              "    .colab-df-container {\n",
              "      display:flex;\n",
              "      flex-wrap:wrap;\n",
              "      gap: 12px;\n",
              "    }\n",
              "\n",
              "    .colab-df-convert {\n",
              "      background-color: #E8F0FE;\n",
              "      border: none;\n",
              "      border-radius: 50%;\n",
              "      cursor: pointer;\n",
              "      display: none;\n",
              "      fill: #1967D2;\n",
              "      height: 32px;\n",
              "      padding: 0 0 0 0;\n",
              "      width: 32px;\n",
              "    }\n",
              "\n",
              "    .colab-df-convert:hover {\n",
              "      background-color: #E2EBFA;\n",
              "      box-shadow: 0px 1px 2px rgba(60, 64, 67, 0.3), 0px 1px 3px 1px rgba(60, 64, 67, 0.15);\n",
              "      fill: #174EA6;\n",
              "    }\n",
              "\n",
              "    [theme=dark] .colab-df-convert {\n",
              "      background-color: #3B4455;\n",
              "      fill: #D2E3FC;\n",
              "    }\n",
              "\n",
              "    [theme=dark] .colab-df-convert:hover {\n",
              "      background-color: #434B5C;\n",
              "      box-shadow: 0px 1px 3px 1px rgba(0, 0, 0, 0.15);\n",
              "      filter: drop-shadow(0px 1px 2px rgba(0, 0, 0, 0.3));\n",
              "      fill: #FFFFFF;\n",
              "    }\n",
              "  </style>\n",
              "\n",
              "      <script>\n",
              "        const buttonEl =\n",
              "          document.querySelector('#df-29531f37-cb4d-4467-8159-ac47697f2cf2 button.colab-df-convert');\n",
              "        buttonEl.style.display =\n",
              "          google.colab.kernel.accessAllowed ? 'block' : 'none';\n",
              "\n",
              "        async function convertToInteractive(key) {\n",
              "          const element = document.querySelector('#df-29531f37-cb4d-4467-8159-ac47697f2cf2');\n",
              "          const dataTable =\n",
              "            await google.colab.kernel.invokeFunction('convertToInteractive',\n",
              "                                                     [key], {});\n",
              "          if (!dataTable) return;\n",
              "\n",
              "          const docLinkHtml = 'Like what you see? Visit the ' +\n",
              "            '<a target=\"_blank\" href=https://colab.research.google.com/notebooks/data_table.ipynb>data table notebook</a>'\n",
              "            + ' to learn more about interactive tables.';\n",
              "          element.innerHTML = '';\n",
              "          dataTable['output_type'] = 'display_data';\n",
              "          await google.colab.output.renderOutput(dataTable, element);\n",
              "          const docLink = document.createElement('div');\n",
              "          docLink.innerHTML = docLinkHtml;\n",
              "          element.appendChild(docLink);\n",
              "        }\n",
              "      </script>\n",
              "    </div>\n",
              "  </div>\n",
              "  "
            ]
          },
          "metadata": {}
        }
      ],
      "source": [
        "path = os.path.join(os.getcwd(), \"Datasets\")\n",
        "csv_files = glob.glob(os.path.join(path, \"*.csv\"))\n",
        "  \n",
        "df = []\n",
        "\n",
        "\n",
        "for f in csv_files:\n",
        "      \n",
        "    dfi = pd.read_csv(f)\n",
        "    #if running on colab, use \"/\"\n",
        "    if f.split(\"/\")[-1] == \"train_pairs.csv\": \n",
        "        split = \"train\"\n",
        "\n",
        "    if f.split(\"/\")[-1] == \"val_pairs.csv\":\n",
        "        split = \"val\"\n",
        "\n",
        "    if f.split(\"/\")[-1] == \"test_pairs.csv\":\n",
        "        split = \"test\"\n",
        "\n",
        "    dfi['split'] = split\n",
        "\n",
        "    df.append(dfi)\n",
        "\n",
        "df = pd.concat(df, ignore_index=True)\n",
        "\n",
        "# let's drop the first unnamed column since it's only indexes which the\n",
        "# dataframe takes care of anyway\n",
        "df = df.drop(\"Unnamed: 0\", axis=1)\n",
        "\n",
        "# convert label into binary\n",
        "df = df.replace({'SUPPORTS': 1, 'REFUTES': 0}) \n",
        "\n",
        "display(df)"
      ]
    },
    {
      "cell_type": "markdown",
      "source": [
        "##Dataset analysis"
      ],
      "metadata": {
        "id": "GDyZu2sSWTI6"
      }
    },
    {
      "cell_type": "code",
      "source": [
        "column = 'split'\n",
        "print(\"Distribution of splits: \")\n",
        "print(df[column].value_counts())\n",
        "print()\n",
        "\n",
        "print(\"Distribution of labels in split: \")\n",
        "print(df.groupby(['split','Label']).size())\n",
        "print()\n",
        "\n",
        "test_data = (df.loc[df['split'] == \"test\"])\n",
        "test_data_unique = test_data.drop_duplicates('ID')\n",
        "\n",
        "print(\"Claim-specific distribution of labels in test split: \")\n",
        "print(test_data_unique['Label'].value_counts())\n",
        "print()"
      ],
      "metadata": {
        "colab": {
          "base_uri": "https://localhost:8080/"
        },
        "id": "IOKBZF0JWSXB",
        "outputId": "2b135da7-9829-478e-bfcc-a89985b1cb8b"
      },
      "execution_count": null,
      "outputs": [
        {
          "output_type": "stream",
          "name": "stdout",
          "text": [
            "Distribution of splits: \n",
            "train    121740\n",
            "test       7189\n",
            "val        7165\n",
            "Name: split, dtype: int64\n",
            "\n",
            "Distribution of labels in split: \n",
            "split  Label\n",
            "test   0         3583\n",
            "       1         3606\n",
            "train  0        32351\n",
            "       1        89389\n",
            "val    0         3554\n",
            "       1         3611\n",
            "dtype: int64\n",
            "\n",
            "Claim-specific distribution of labels in test split: \n",
            "1    3309\n",
            "0    3304\n",
            "Name: Label, dtype: int64\n",
            "\n"
          ]
        }
      ]
    },
    {
      "cell_type": "markdown",
      "source": [
        "We notice there's an imbalance between Support and Refute samples in the training set (#Support > #Refute) of almost 3:1. \n",
        "\n",
        "However, the test set is balanced even after removing duplicate claims (used for 2nd evaluation type)"
      ],
      "metadata": {
        "id": "QuASY4ojX3TG"
      }
    },
    {
      "cell_type": "markdown",
      "metadata": {
        "id": "OiGaaijxUQjK"
      },
      "source": [
        "##Text Cleaning"
      ]
    },
    {
      "cell_type": "markdown",
      "source": [
        "Since the dataset contains many special and non english characters, some cleaning needed to be done.\n",
        "\n",
        "For what concerns **diacritics** and other non-english characters (such as in 'Krabbé', 'Königgrätz', etc.), we decided to keep them since they need to be matched against the evidence by the network and slightly improved performance at negligible cost.  \n",
        "\n",
        "However we discarded the **Phonetic transcriptions** such as \"tɔma bɑ̃ɡaltɛʁ\" and tags such as '-lsb-' as they do not help with the classification.\n",
        "\n",
        "We experimented with **lemmatization** but achieved minimal performance (<0.5% F1-score and val_accuracy) compared to its high cost, therefore we didn't use it.\n",
        "\n",
        "**Stopword removal** actually hurt performance badly (>5% val accuracy) even when keeping verbs, and that might be because fact checking requires a high level of precision. We evidently didn't use it.\n",
        "\n"
      ],
      "metadata": {
        "id": "4c3pIm_D0-iA"
      }
    },
    {
      "cell_type": "code",
      "execution_count": null,
      "metadata": {
        "id": "Iw45aF2acfcS",
        "colab": {
          "base_uri": "https://localhost:8080/"
        },
        "outputId": "88d5964d-29bb-4b54-999f-896a1d93cee4"
      },
      "outputs": [
        {
          "output_type": "stream",
          "name": "stdout",
          "text": [
            "&ć#üó%ōāşα×ëíç`čêáå$ñãá̇úóéöèä\n"
          ]
        }
      ],
      "source": [
        "# get set of all characters in claims\n",
        "s = set()\n",
        "for sent in df['Claim']:\n",
        "    for char in sent:\n",
        "        s.add(char)\n",
        "all_char=' '.join([x for x in s])\n",
        "all_char = (all_char.lower())\n",
        "\n",
        "#get characters with diacritics which will be pasted in GOOD_SYMBOLS_RE\n",
        "TO_REPLACE = re.compile('[0-9a-z –\\-!,*?\"\\./{}\\[\\]\\|@\\(\\):+\\']')\n",
        "special = TO_REPLACE.sub('', all_char)\n",
        "print(special)"
      ]
    },
    {
      "cell_type": "code",
      "execution_count": null,
      "metadata": {
        "id": "VLLawHzXLNe9"
      },
      "outputs": [],
      "source": [
        "from functools import reduce\n",
        "import nltk\n",
        "import string\n",
        "\n",
        "# Config\n",
        "BAD_SYMBOLS_RE = re.compile('[/{}\\[\\]\\|@]')\n",
        "GOOD_SYMBOLS_RE = re.compile('[^0-9a-z αãëşüćéčáōö×äóñèó`çáêāúåí]' )\n",
        "BAD_STRINGS = ['-lsb-','-lrb-','-rsb-','-rrb-']\n",
        "\n",
        "def remove_1st_nb(text) -> str:\n",
        "    \"\"\"\n",
        "    removes leading number in evidence sentences\n",
        "    \"\"\"\n",
        "\n",
        "    l = text.split('\\t',1)\n",
        "    return l[1]\n",
        "        \n",
        "def lower(text: str) -> str:\n",
        "    \"\"\"\n",
        "    Transforms given text to lower case.\n",
        "    \"\"\"\n",
        "\n",
        "    return text.lower()\n",
        "\n",
        "def remove_bad_strings(text) -> str:\n",
        "    \"\"\"\n",
        "    Removes the brackets tags such as -RSB-\n",
        "    \"\"\"\n",
        "\n",
        "    return ' '.join([x for x in text.split() if x and x not in BAD_STRINGS])\n",
        "\n",
        "\n",
        "def replace_special_characters(text: str) -> str:\n",
        "    \"\"\"\n",
        "    Replaces special characters, such as paranthesis,\n",
        "    with spacing character\n",
        "    \"\"\"\n",
        "\n",
        "    return BAD_SYMBOLS_RE.sub(' ', text)\n",
        "\n",
        "\n",
        "def filter_out_uncommon_symbols(text: str) -> str:\n",
        "    \"\"\"\n",
        "    Removes any special character that is not in the\n",
        "    good symbols list (check regular expression)\n",
        "    \"\"\"\n",
        "\n",
        "    return GOOD_SYMBOLS_RE.sub(' ', text)\n",
        "\n",
        "\n",
        "def strip_text(text: str) -> str:\n",
        "    \"\"\"\n",
        "    Removes any left or right spacing (including carriage return) from text.\n",
        "    Example:\n",
        "    Input: '  This assignment is cool\\n'\n",
        "    Output: 'This assignment is cool'\n",
        "    \"\"\"\n",
        "    return text.strip()\n",
        "    \n",
        "\n",
        "PREPROCESSING_PIPELINE_EVID = [\n",
        "                            remove_1st_nb,\n",
        "                            lower,\n",
        "                            remove_bad_strings,\n",
        "                            replace_special_characters,\n",
        "                            filter_out_uncommon_symbols,\n",
        "                            strip_text\n",
        "                          ]\n",
        "\n",
        "PREPROCESSING_PIPELINE_CLAIM = [\n",
        "                            lower,\n",
        "                            replace_special_characters,\n",
        "                            filter_out_uncommon_symbols,\n",
        "                            strip_text\n",
        "                          ]\n",
        "\n",
        "# Anchor method\n",
        "\n",
        "def text_prepare(text: str,\n",
        "                 filter_methods: List[Callable[[str], str]] = None) -> str:\n",
        "    \"\"\"\n",
        "    Applies a list of pre-processing functions in sequence (reduce).\n",
        "    \"\"\"\n",
        "\n",
        "    filter_methods = filter_methods if filter_methods is not None else PREPROCESSING_PIPELINE_EVID\n",
        "\n",
        "    return reduce(lambda txt, f: f(txt), filter_methods, text)"
      ]
    },
    {
      "cell_type": "code",
      "execution_count": null,
      "metadata": {
        "id": "feLmjlBkLAMD",
        "colab": {
          "base_uri": "https://localhost:8080/",
          "height": 969
        },
        "outputId": "bf88ba87-5be3-42b5-af47-f99ed0338471"
      },
      "outputs": [
        {
          "output_type": "stream",
          "name": "stdout",
          "text": [
            "Pre-processing text...\n",
            "\n",
            "Pre-processing completed!\n",
            "\n",
            "[Debug] Before:\n",
            "\n"
          ]
        },
        {
          "output_type": "display_data",
          "data": {
            "text/plain": [
              "                                                    Claim  \\\n",
              "0         Anxiety has been linked with physical symptoms.   \n",
              "1                              Firefox is an application.   \n",
              "2       Keegan-Michael Key played President Barack Oba...   \n",
              "3                    Google Search can find stock quotes.   \n",
              "4       A Good Day to Die Hard was directed solely by ...   \n",
              "...                                                   ...   \n",
              "136089       April was the month Anderson Silva was born.   \n",
              "136090  Anderson Silva is an American Brazilian mixed ...   \n",
              "136091  Anderson Silva is incapable of being a Brazili...   \n",
              "136092  Anderson Silva was born on the month of April ...   \n",
              "136093    Anderson Silva was born on the day of the 15th.   \n",
              "\n",
              "                                                 Evidence      ID  Label  \\\n",
              "0       13\\tFurthermore , anxiety has been linked with...   16387      1   \n",
              "1       0\\tMozilla Firefox -LRB- or simply Firefox -RR...       6      1   \n",
              "2       6\\tIn 2015 , Key appeared at the White House C...   16392      1   \n",
              "3       13\\tThese include synonyms , weather forecasts...   16394      1   \n",
              "4       1\\tThe film was directed by John Moore and wri...   98315      0   \n",
              "...                                                   ...     ...    ...   \n",
              "136089  0\\tAnderson da Silva -LRB- -LSB- ˈɐ̃deʁsõ ˈsiw...  229440      1   \n",
              "136090  0\\tAnderson da Silva -LRB- -LSB- ˈɐ̃deʁsõ ˈsiw...  229443      0   \n",
              "136091  0\\tAnderson da Silva -LRB- -LSB- ˈɐ̃deʁsõ ˈsiw...  229444      0   \n",
              "136092  0\\tAnderson da Silva -LRB- -LSB- ˈɐ̃deʁsõ ˈsiw...  229445      1   \n",
              "136093  0\\tAnderson da Silva -LRB- -LSB- ˈɐ̃deʁsõ ˈsiw...  229448      0   \n",
              "\n",
              "        split  \n",
              "0        test  \n",
              "1        test  \n",
              "2        test  \n",
              "3        test  \n",
              "4        test  \n",
              "...       ...  \n",
              "136089  train  \n",
              "136090  train  \n",
              "136091  train  \n",
              "136092  train  \n",
              "136093  train  \n",
              "\n",
              "[136094 rows x 5 columns]"
            ],
            "text/html": [
              "\n",
              "  <div id=\"df-f227df8b-f0db-4d0a-8387-887feee4e7e9\">\n",
              "    <div class=\"colab-df-container\">\n",
              "      <div>\n",
              "<style scoped>\n",
              "    .dataframe tbody tr th:only-of-type {\n",
              "        vertical-align: middle;\n",
              "    }\n",
              "\n",
              "    .dataframe tbody tr th {\n",
              "        vertical-align: top;\n",
              "    }\n",
              "\n",
              "    .dataframe thead th {\n",
              "        text-align: right;\n",
              "    }\n",
              "</style>\n",
              "<table border=\"1\" class=\"dataframe\">\n",
              "  <thead>\n",
              "    <tr style=\"text-align: right;\">\n",
              "      <th></th>\n",
              "      <th>Claim</th>\n",
              "      <th>Evidence</th>\n",
              "      <th>ID</th>\n",
              "      <th>Label</th>\n",
              "      <th>split</th>\n",
              "    </tr>\n",
              "  </thead>\n",
              "  <tbody>\n",
              "    <tr>\n",
              "      <th>0</th>\n",
              "      <td>Anxiety has been linked with physical symptoms.</td>\n",
              "      <td>13\\tFurthermore , anxiety has been linked with...</td>\n",
              "      <td>16387</td>\n",
              "      <td>1</td>\n",
              "      <td>test</td>\n",
              "    </tr>\n",
              "    <tr>\n",
              "      <th>1</th>\n",
              "      <td>Firefox is an application.</td>\n",
              "      <td>0\\tMozilla Firefox -LRB- or simply Firefox -RR...</td>\n",
              "      <td>6</td>\n",
              "      <td>1</td>\n",
              "      <td>test</td>\n",
              "    </tr>\n",
              "    <tr>\n",
              "      <th>2</th>\n",
              "      <td>Keegan-Michael Key played President Barack Oba...</td>\n",
              "      <td>6\\tIn 2015 , Key appeared at the White House C...</td>\n",
              "      <td>16392</td>\n",
              "      <td>1</td>\n",
              "      <td>test</td>\n",
              "    </tr>\n",
              "    <tr>\n",
              "      <th>3</th>\n",
              "      <td>Google Search can find stock quotes.</td>\n",
              "      <td>13\\tThese include synonyms , weather forecasts...</td>\n",
              "      <td>16394</td>\n",
              "      <td>1</td>\n",
              "      <td>test</td>\n",
              "    </tr>\n",
              "    <tr>\n",
              "      <th>4</th>\n",
              "      <td>A Good Day to Die Hard was directed solely by ...</td>\n",
              "      <td>1\\tThe film was directed by John Moore and wri...</td>\n",
              "      <td>98315</td>\n",
              "      <td>0</td>\n",
              "      <td>test</td>\n",
              "    </tr>\n",
              "    <tr>\n",
              "      <th>...</th>\n",
              "      <td>...</td>\n",
              "      <td>...</td>\n",
              "      <td>...</td>\n",
              "      <td>...</td>\n",
              "      <td>...</td>\n",
              "    </tr>\n",
              "    <tr>\n",
              "      <th>136089</th>\n",
              "      <td>April was the month Anderson Silva was born.</td>\n",
              "      <td>0\\tAnderson da Silva -LRB- -LSB- ˈɐ̃deʁsõ ˈsiw...</td>\n",
              "      <td>229440</td>\n",
              "      <td>1</td>\n",
              "      <td>train</td>\n",
              "    </tr>\n",
              "    <tr>\n",
              "      <th>136090</th>\n",
              "      <td>Anderson Silva is an American Brazilian mixed ...</td>\n",
              "      <td>0\\tAnderson da Silva -LRB- -LSB- ˈɐ̃deʁsõ ˈsiw...</td>\n",
              "      <td>229443</td>\n",
              "      <td>0</td>\n",
              "      <td>train</td>\n",
              "    </tr>\n",
              "    <tr>\n",
              "      <th>136091</th>\n",
              "      <td>Anderson Silva is incapable of being a Brazili...</td>\n",
              "      <td>0\\tAnderson da Silva -LRB- -LSB- ˈɐ̃deʁsõ ˈsiw...</td>\n",
              "      <td>229444</td>\n",
              "      <td>0</td>\n",
              "      <td>train</td>\n",
              "    </tr>\n",
              "    <tr>\n",
              "      <th>136092</th>\n",
              "      <td>Anderson Silva was born on the month of April ...</td>\n",
              "      <td>0\\tAnderson da Silva -LRB- -LSB- ˈɐ̃deʁsõ ˈsiw...</td>\n",
              "      <td>229445</td>\n",
              "      <td>1</td>\n",
              "      <td>train</td>\n",
              "    </tr>\n",
              "    <tr>\n",
              "      <th>136093</th>\n",
              "      <td>Anderson Silva was born on the day of the 15th.</td>\n",
              "      <td>0\\tAnderson da Silva -LRB- -LSB- ˈɐ̃deʁsõ ˈsiw...</td>\n",
              "      <td>229448</td>\n",
              "      <td>0</td>\n",
              "      <td>train</td>\n",
              "    </tr>\n",
              "  </tbody>\n",
              "</table>\n",
              "<p>136094 rows × 5 columns</p>\n",
              "</div>\n",
              "      <button class=\"colab-df-convert\" onclick=\"convertToInteractive('df-f227df8b-f0db-4d0a-8387-887feee4e7e9')\"\n",
              "              title=\"Convert this dataframe to an interactive table.\"\n",
              "              style=\"display:none;\">\n",
              "        \n",
              "  <svg xmlns=\"http://www.w3.org/2000/svg\" height=\"24px\"viewBox=\"0 0 24 24\"\n",
              "       width=\"24px\">\n",
              "    <path d=\"M0 0h24v24H0V0z\" fill=\"none\"/>\n",
              "    <path d=\"M18.56 5.44l.94 2.06.94-2.06 2.06-.94-2.06-.94-.94-2.06-.94 2.06-2.06.94zm-11 1L8.5 8.5l.94-2.06 2.06-.94-2.06-.94L8.5 2.5l-.94 2.06-2.06.94zm10 10l.94 2.06.94-2.06 2.06-.94-2.06-.94-.94-2.06-.94 2.06-2.06.94z\"/><path d=\"M17.41 7.96l-1.37-1.37c-.4-.4-.92-.59-1.43-.59-.52 0-1.04.2-1.43.59L10.3 9.45l-7.72 7.72c-.78.78-.78 2.05 0 2.83L4 21.41c.39.39.9.59 1.41.59.51 0 1.02-.2 1.41-.59l7.78-7.78 2.81-2.81c.8-.78.8-2.07 0-2.86zM5.41 20L4 18.59l7.72-7.72 1.47 1.35L5.41 20z\"/>\n",
              "  </svg>\n",
              "      </button>\n",
              "      \n",
              "  <style>\n",
              "    .colab-df-container {\n",
              "      display:flex;\n",
              "      flex-wrap:wrap;\n",
              "      gap: 12px;\n",
              "    }\n",
              "\n",
              "    .colab-df-convert {\n",
              "      background-color: #E8F0FE;\n",
              "      border: none;\n",
              "      border-radius: 50%;\n",
              "      cursor: pointer;\n",
              "      display: none;\n",
              "      fill: #1967D2;\n",
              "      height: 32px;\n",
              "      padding: 0 0 0 0;\n",
              "      width: 32px;\n",
              "    }\n",
              "\n",
              "    .colab-df-convert:hover {\n",
              "      background-color: #E2EBFA;\n",
              "      box-shadow: 0px 1px 2px rgba(60, 64, 67, 0.3), 0px 1px 3px 1px rgba(60, 64, 67, 0.15);\n",
              "      fill: #174EA6;\n",
              "    }\n",
              "\n",
              "    [theme=dark] .colab-df-convert {\n",
              "      background-color: #3B4455;\n",
              "      fill: #D2E3FC;\n",
              "    }\n",
              "\n",
              "    [theme=dark] .colab-df-convert:hover {\n",
              "      background-color: #434B5C;\n",
              "      box-shadow: 0px 1px 3px 1px rgba(0, 0, 0, 0.15);\n",
              "      filter: drop-shadow(0px 1px 2px rgba(0, 0, 0, 0.3));\n",
              "      fill: #FFFFFF;\n",
              "    }\n",
              "  </style>\n",
              "\n",
              "      <script>\n",
              "        const buttonEl =\n",
              "          document.querySelector('#df-f227df8b-f0db-4d0a-8387-887feee4e7e9 button.colab-df-convert');\n",
              "        buttonEl.style.display =\n",
              "          google.colab.kernel.accessAllowed ? 'block' : 'none';\n",
              "\n",
              "        async function convertToInteractive(key) {\n",
              "          const element = document.querySelector('#df-f227df8b-f0db-4d0a-8387-887feee4e7e9');\n",
              "          const dataTable =\n",
              "            await google.colab.kernel.invokeFunction('convertToInteractive',\n",
              "                                                     [key], {});\n",
              "          if (!dataTable) return;\n",
              "\n",
              "          const docLinkHtml = 'Like what you see? Visit the ' +\n",
              "            '<a target=\"_blank\" href=https://colab.research.google.com/notebooks/data_table.ipynb>data table notebook</a>'\n",
              "            + ' to learn more about interactive tables.';\n",
              "          element.innerHTML = '';\n",
              "          dataTable['output_type'] = 'display_data';\n",
              "          await google.colab.output.renderOutput(dataTable, element);\n",
              "          const docLink = document.createElement('div');\n",
              "          docLink.innerHTML = docLinkHtml;\n",
              "          element.appendChild(docLink);\n",
              "        }\n",
              "      </script>\n",
              "    </div>\n",
              "  </div>\n",
              "  "
            ]
          },
          "metadata": {}
        },
        {
          "output_type": "stream",
          "name": "stdout",
          "text": [
            "[Debug] After:\n",
            "\n"
          ]
        },
        {
          "output_type": "display_data",
          "data": {
            "text/plain": [
              "                                                    Claim  \\\n",
              "0          anxiety has been linked with physical symptoms   \n",
              "1                               firefox is an application   \n",
              "2       keegan michael key played president barack oba...   \n",
              "3                     google search can find stock quotes   \n",
              "4       a good day to die hard was directed solely by ...   \n",
              "...                                                   ...   \n",
              "136089        april was the month anderson silva was born   \n",
              "136090  anderson silva is an american brazilian mixed ...   \n",
              "136091  anderson silva is incapable of being a brazili...   \n",
              "136092  anderson silva was born on the month of april ...   \n",
              "136093     anderson silva was born on the day of the 15th   \n",
              "\n",
              "                                                 Evidence      ID  Label  \\\n",
              "0       furthermore   anxiety has been linked with phy...   16387      1   \n",
              "1       mozilla firefox or simply firefox is a free an...       6      1   \n",
              "2       in 2015   key appeared at the white house corr...   16392      1   \n",
              "3       these include synonyms   weather forecasts   t...   16394      1   \n",
              "4       the film was directed by john moore and writte...   98315      0   \n",
              "...                                                   ...     ...    ...   \n",
              "136089  anderson da silva    de s   siwv    born april...  229440      1   \n",
              "136090  anderson da silva    de s   siwv    born april...  229443      0   \n",
              "136091  anderson da silva    de s   siwv    born april...  229444      0   \n",
              "136092  anderson da silva    de s   siwv    born april...  229445      1   \n",
              "136093  anderson da silva    de s   siwv    born april...  229448      0   \n",
              "\n",
              "        split  \n",
              "0        test  \n",
              "1        test  \n",
              "2        test  \n",
              "3        test  \n",
              "4        test  \n",
              "...       ...  \n",
              "136089  train  \n",
              "136090  train  \n",
              "136091  train  \n",
              "136092  train  \n",
              "136093  train  \n",
              "\n",
              "[136094 rows x 5 columns]"
            ],
            "text/html": [
              "\n",
              "  <div id=\"df-3011cb77-176d-4acc-8430-de464ab0d32a\">\n",
              "    <div class=\"colab-df-container\">\n",
              "      <div>\n",
              "<style scoped>\n",
              "    .dataframe tbody tr th:only-of-type {\n",
              "        vertical-align: middle;\n",
              "    }\n",
              "\n",
              "    .dataframe tbody tr th {\n",
              "        vertical-align: top;\n",
              "    }\n",
              "\n",
              "    .dataframe thead th {\n",
              "        text-align: right;\n",
              "    }\n",
              "</style>\n",
              "<table border=\"1\" class=\"dataframe\">\n",
              "  <thead>\n",
              "    <tr style=\"text-align: right;\">\n",
              "      <th></th>\n",
              "      <th>Claim</th>\n",
              "      <th>Evidence</th>\n",
              "      <th>ID</th>\n",
              "      <th>Label</th>\n",
              "      <th>split</th>\n",
              "    </tr>\n",
              "  </thead>\n",
              "  <tbody>\n",
              "    <tr>\n",
              "      <th>0</th>\n",
              "      <td>anxiety has been linked with physical symptoms</td>\n",
              "      <td>furthermore   anxiety has been linked with phy...</td>\n",
              "      <td>16387</td>\n",
              "      <td>1</td>\n",
              "      <td>test</td>\n",
              "    </tr>\n",
              "    <tr>\n",
              "      <th>1</th>\n",
              "      <td>firefox is an application</td>\n",
              "      <td>mozilla firefox or simply firefox is a free an...</td>\n",
              "      <td>6</td>\n",
              "      <td>1</td>\n",
              "      <td>test</td>\n",
              "    </tr>\n",
              "    <tr>\n",
              "      <th>2</th>\n",
              "      <td>keegan michael key played president barack oba...</td>\n",
              "      <td>in 2015   key appeared at the white house corr...</td>\n",
              "      <td>16392</td>\n",
              "      <td>1</td>\n",
              "      <td>test</td>\n",
              "    </tr>\n",
              "    <tr>\n",
              "      <th>3</th>\n",
              "      <td>google search can find stock quotes</td>\n",
              "      <td>these include synonyms   weather forecasts   t...</td>\n",
              "      <td>16394</td>\n",
              "      <td>1</td>\n",
              "      <td>test</td>\n",
              "    </tr>\n",
              "    <tr>\n",
              "      <th>4</th>\n",
              "      <td>a good day to die hard was directed solely by ...</td>\n",
              "      <td>the film was directed by john moore and writte...</td>\n",
              "      <td>98315</td>\n",
              "      <td>0</td>\n",
              "      <td>test</td>\n",
              "    </tr>\n",
              "    <tr>\n",
              "      <th>...</th>\n",
              "      <td>...</td>\n",
              "      <td>...</td>\n",
              "      <td>...</td>\n",
              "      <td>...</td>\n",
              "      <td>...</td>\n",
              "    </tr>\n",
              "    <tr>\n",
              "      <th>136089</th>\n",
              "      <td>april was the month anderson silva was born</td>\n",
              "      <td>anderson da silva    de s   siwv    born april...</td>\n",
              "      <td>229440</td>\n",
              "      <td>1</td>\n",
              "      <td>train</td>\n",
              "    </tr>\n",
              "    <tr>\n",
              "      <th>136090</th>\n",
              "      <td>anderson silva is an american brazilian mixed ...</td>\n",
              "      <td>anderson da silva    de s   siwv    born april...</td>\n",
              "      <td>229443</td>\n",
              "      <td>0</td>\n",
              "      <td>train</td>\n",
              "    </tr>\n",
              "    <tr>\n",
              "      <th>136091</th>\n",
              "      <td>anderson silva is incapable of being a brazili...</td>\n",
              "      <td>anderson da silva    de s   siwv    born april...</td>\n",
              "      <td>229444</td>\n",
              "      <td>0</td>\n",
              "      <td>train</td>\n",
              "    </tr>\n",
              "    <tr>\n",
              "      <th>136092</th>\n",
              "      <td>anderson silva was born on the month of april ...</td>\n",
              "      <td>anderson da silva    de s   siwv    born april...</td>\n",
              "      <td>229445</td>\n",
              "      <td>1</td>\n",
              "      <td>train</td>\n",
              "    </tr>\n",
              "    <tr>\n",
              "      <th>136093</th>\n",
              "      <td>anderson silva was born on the day of the 15th</td>\n",
              "      <td>anderson da silva    de s   siwv    born april...</td>\n",
              "      <td>229448</td>\n",
              "      <td>0</td>\n",
              "      <td>train</td>\n",
              "    </tr>\n",
              "  </tbody>\n",
              "</table>\n",
              "<p>136094 rows × 5 columns</p>\n",
              "</div>\n",
              "      <button class=\"colab-df-convert\" onclick=\"convertToInteractive('df-3011cb77-176d-4acc-8430-de464ab0d32a')\"\n",
              "              title=\"Convert this dataframe to an interactive table.\"\n",
              "              style=\"display:none;\">\n",
              "        \n",
              "  <svg xmlns=\"http://www.w3.org/2000/svg\" height=\"24px\"viewBox=\"0 0 24 24\"\n",
              "       width=\"24px\">\n",
              "    <path d=\"M0 0h24v24H0V0z\" fill=\"none\"/>\n",
              "    <path d=\"M18.56 5.44l.94 2.06.94-2.06 2.06-.94-2.06-.94-.94-2.06-.94 2.06-2.06.94zm-11 1L8.5 8.5l.94-2.06 2.06-.94-2.06-.94L8.5 2.5l-.94 2.06-2.06.94zm10 10l.94 2.06.94-2.06 2.06-.94-2.06-.94-.94-2.06-.94 2.06-2.06.94z\"/><path d=\"M17.41 7.96l-1.37-1.37c-.4-.4-.92-.59-1.43-.59-.52 0-1.04.2-1.43.59L10.3 9.45l-7.72 7.72c-.78.78-.78 2.05 0 2.83L4 21.41c.39.39.9.59 1.41.59.51 0 1.02-.2 1.41-.59l7.78-7.78 2.81-2.81c.8-.78.8-2.07 0-2.86zM5.41 20L4 18.59l7.72-7.72 1.47 1.35L5.41 20z\"/>\n",
              "  </svg>\n",
              "      </button>\n",
              "      \n",
              "  <style>\n",
              "    .colab-df-container {\n",
              "      display:flex;\n",
              "      flex-wrap:wrap;\n",
              "      gap: 12px;\n",
              "    }\n",
              "\n",
              "    .colab-df-convert {\n",
              "      background-color: #E8F0FE;\n",
              "      border: none;\n",
              "      border-radius: 50%;\n",
              "      cursor: pointer;\n",
              "      display: none;\n",
              "      fill: #1967D2;\n",
              "      height: 32px;\n",
              "      padding: 0 0 0 0;\n",
              "      width: 32px;\n",
              "    }\n",
              "\n",
              "    .colab-df-convert:hover {\n",
              "      background-color: #E2EBFA;\n",
              "      box-shadow: 0px 1px 2px rgba(60, 64, 67, 0.3), 0px 1px 3px 1px rgba(60, 64, 67, 0.15);\n",
              "      fill: #174EA6;\n",
              "    }\n",
              "\n",
              "    [theme=dark] .colab-df-convert {\n",
              "      background-color: #3B4455;\n",
              "      fill: #D2E3FC;\n",
              "    }\n",
              "\n",
              "    [theme=dark] .colab-df-convert:hover {\n",
              "      background-color: #434B5C;\n",
              "      box-shadow: 0px 1px 3px 1px rgba(0, 0, 0, 0.15);\n",
              "      filter: drop-shadow(0px 1px 2px rgba(0, 0, 0, 0.3));\n",
              "      fill: #FFFFFF;\n",
              "    }\n",
              "  </style>\n",
              "\n",
              "      <script>\n",
              "        const buttonEl =\n",
              "          document.querySelector('#df-3011cb77-176d-4acc-8430-de464ab0d32a button.colab-df-convert');\n",
              "        buttonEl.style.display =\n",
              "          google.colab.kernel.accessAllowed ? 'block' : 'none';\n",
              "\n",
              "        async function convertToInteractive(key) {\n",
              "          const element = document.querySelector('#df-3011cb77-176d-4acc-8430-de464ab0d32a');\n",
              "          const dataTable =\n",
              "            await google.colab.kernel.invokeFunction('convertToInteractive',\n",
              "                                                     [key], {});\n",
              "          if (!dataTable) return;\n",
              "\n",
              "          const docLinkHtml = 'Like what you see? Visit the ' +\n",
              "            '<a target=\"_blank\" href=https://colab.research.google.com/notebooks/data_table.ipynb>data table notebook</a>'\n",
              "            + ' to learn more about interactive tables.';\n",
              "          element.innerHTML = '';\n",
              "          dataTable['output_type'] = 'display_data';\n",
              "          await google.colab.output.renderOutput(dataTable, element);\n",
              "          const docLink = document.createElement('div');\n",
              "          docLink.innerHTML = docLinkHtml;\n",
              "          element.appendChild(docLink);\n",
              "        }\n",
              "      </script>\n",
              "    </div>\n",
              "  </div>\n",
              "  "
            ]
          },
          "metadata": {}
        }
      ],
      "source": [
        "# text cleaning\n",
        "print('Pre-processing text...')\n",
        "print()\n",
        "\n",
        "print(\"Pre-processing completed!\")\n",
        "print()\n",
        "\n",
        "print('[Debug] Before:\\n')\n",
        "\n",
        "dfc = pd.DataFrame.copy(df)\n",
        "\n",
        "display(dfc)\n",
        "\n",
        "# Replace each sentence with its pre-processed version\n",
        "dfc['Evidence'] = dfc['Evidence'].apply(lambda txt: text_prepare(txt))\n",
        "dfc['Claim'] = dfc['Claim'].apply(lambda txt: text_prepare(txt,PREPROCESSING_PIPELINE_CLAIM))\n",
        "\n",
        "print('[Debug] After:\\n')\n",
        "display(dfc)"
      ]
    },
    {
      "cell_type": "markdown",
      "source": [
        "Code for lemmatization below (unused)"
      ],
      "metadata": {
        "id": "Rq27BsxShQXm"
      }
    },
    {
      "cell_type": "code",
      "source": [
        "#import spacy\n",
        "\n",
        "# # Initialize spacy 'en' model, keeping only tagger component needed for lemmatization\n",
        "# nlp = spacy.load('en_core_web_sm', disable=['parser', 'ner'])\n",
        "# nlp.add_pipe('sentencizer')\n",
        "\n",
        "# def lemmatize_pipe(docs):\n",
        "#     preproc_pipe = []\n",
        "\n",
        "#     for doc in nlp.pipe(docs\n",
        "#                         , batch_size=2000, n_process=8\n",
        "#                         ):\n",
        "#         preproc_pipe.append(' '.join([tok.lemma_ for tok in doc]))\n",
        "\n",
        "#     return preproc_pipe\n",
        "\n",
        "# dfc['Claim'] = lemmatize_pipe(dfc['Claim'])\n",
        "# dfc['Evidence'] = lemmatize_pipe(dfc['Evidence'])"
      ],
      "metadata": {
        "id": "iM1Y_l6pgDcI"
      },
      "execution_count": null,
      "outputs": []
    },
    {
      "cell_type": "markdown",
      "metadata": {
        "id": "xtqFCtW5NtUR"
      },
      "source": [
        "##Data Splitting"
      ]
    },
    {
      "cell_type": "code",
      "execution_count": null,
      "metadata": {
        "id": "v3yvesW7WdoA"
      },
      "outputs": [],
      "source": [
        "def split_data(df, n1, n2): \n",
        "    \"\"\"\n",
        "    splits data into train, validation and test sets\n",
        "\n",
        "    :param n1: size of train split\n",
        "    :param n2: size of validation split\n",
        "    \n",
        "    \"\"\"\n",
        "    global x_train_c, x_train_e , y_train, \\\n",
        "    x_val_c, x_val_e, y_val, \\\n",
        "    x_test_c, x_test_e, y_test\n",
        "\n",
        "    TRAIN_SPLIT = n1\n",
        "    VAL_SPLIT = n2\n",
        "    \n",
        "    train_data = df[df['split'] == 'train']\n",
        "    val_data = df[df['split'] == 'val']\n",
        "    test_data = df[df['split'] == 'test']\n",
        "    \n",
        "    x_train_c = train_data['Claim'].values[:TRAIN_SPLIT]\n",
        "    x_train_e = train_data['Evidence'].values[:TRAIN_SPLIT]\n",
        "    y_train = train_data['Label'].values[:TRAIN_SPLIT]\n",
        "\n",
        "    x_val_c = val_data['Claim'].values[:VAL_SPLIT]\n",
        "    x_val_e = val_data['Evidence'].values[:VAL_SPLIT]\n",
        "    y_val = val_data['Label'].values[:VAL_SPLIT]\n",
        "\n",
        "    x_test_c = test_data['Claim'].values\n",
        "    x_test_e = test_data['Evidence'].values\n",
        "    y_test = test_data['Label'].values\n",
        "\n",
        "    print('Dataset splits statistics: ')\n",
        "    print('Train data: ', x_train_c.shape)\n",
        "    print('Validation data: ', x_val_c.shape)\n",
        "    print('Test data: ', x_test_c.shape)"
      ]
    },
    {
      "cell_type": "markdown",
      "metadata": {
        "id": "-D3LiIxci8xR"
      },
      "source": [
        "##Define Tokenizer "
      ]
    },
    {
      "cell_type": "code",
      "execution_count": null,
      "metadata": {
        "id": "Puu2Fxp4MZcu"
      },
      "outputs": [],
      "source": [
        "class KerasTokenizer(object):\n",
        "    \"\"\"\n",
        "    A simple high-level wrapper for the Keras tokenizer.\n",
        "    \"\"\"\n",
        "\n",
        "    def __init__(self, tokenizer_args=None):\n",
        "        self.vocab = None\n",
        "        tokenizer_args = {} if tokenizer_args is None else tokenizer_args\n",
        "        assert isinstance(tokenizer_args, dict) or isinstance(tokenizer_args, collections.OrderedDict)\n",
        "\n",
        "        self.tokenizer_args = tokenizer_args\n",
        "        self.tokenizer = tf.keras.preprocessing.text.Tokenizer(**self.tokenizer_args)\n",
        "\n",
        "    def build_vocab(self, data, **kwargs):\n",
        "        print('Fitting tokenizer...')\n",
        "        self.tokenizer.fit_on_texts(data)\n",
        "        print('Fit completed!')\n",
        "        self.vocab = self.tokenizer.word_index\n",
        "\n",
        "    def get_info(self):\n",
        "        return {\n",
        "            'vocab_size': len(self.vocab) + 1,\n",
        "        }\n",
        "    \n",
        "    def tokenize(self, text):\n",
        "        return text\n",
        "\n",
        "    def convert_tokens_to_ids(self, tokens):\n",
        "        if type(tokens) == str:\n",
        "            return self.tokenizer.texts_to_sequences([tokens])[0]\n",
        "        else:\n",
        "            return self.tokenizer.texts_to_sequences(tokens)\n",
        "\n",
        "    def convert_ids_to_tokens(self, ids):\n",
        "        return self.tokenizer.sequences_to_texts(ids)"
      ]
    },
    {
      "cell_type": "markdown",
      "metadata": {
        "id": "S5NjJme0zp1a"
      },
      "source": [
        "##Build Vocabulary"
      ]
    },
    {
      "cell_type": "code",
      "execution_count": null,
      "metadata": {
        "id": "hrBntDi37zO3"
      },
      "outputs": [],
      "source": [
        "def build_vocabulary():\n",
        "    \"\"\"\n",
        "    Builds the vocabulary\n",
        "    \n",
        "    :return\n",
        "        - word tokenizer \n",
        "    \"\"\"\n",
        "    global x_train_c, x_train_e , y_train, \\\n",
        "    x_val_c, x_val_e, y_val, \\\n",
        "    x_test_c,x_test_e, y_test\n",
        "\n",
        "    tokenizer_args = {\n",
        "    }\n",
        "\n",
        "    # word tokenizer\n",
        "    tokenizer = KerasTokenizer(tokenizer_args=tokenizer_args)\n",
        "\n",
        "    # TRAIN\n",
        "    tokenizer.build_vocab(x_train_c) # build train set vocab \n",
        "    tokenizer.build_vocab(x_train_e) # build train set vocab\n",
        "\n",
        "    # VAL\n",
        "    tokenizer.build_vocab(x_val_c) # build val set vocab \n",
        "    tokenizer.build_vocab(x_val_e) # build val set vocab \n",
        "\n",
        "    # TEST\n",
        "    tokenizer.build_vocab(x_test_c) # build test set vocab\n",
        "    tokenizer.build_vocab(x_test_e) # build test set vocab\n",
        "\n",
        "    tokenizer_info = tokenizer.get_info()\n",
        "    print('\\nWord Tokenizer info: ', tokenizer_info)\n",
        "\n",
        "    return tokenizer"
      ]
    },
    {
      "cell_type": "markdown",
      "metadata": {
        "id": "n0NkZk2Bt02G"
      },
      "source": [
        "##Convert Text"
      ]
    },
    {
      "cell_type": "code",
      "execution_count": null,
      "metadata": {
        "id": "SiPYjJWuUVY4"
      },
      "outputs": [],
      "source": [
        "##postpadding\n",
        "def convert_text(texts, tokenizer, is_training=False, max_seq_length=None):\n",
        "    \"\"\"\n",
        "    Converts input text sequences using a given tokenizer\n",
        "\n",
        "    :param texts: either a list or numpy ndarray of strings\n",
        "    :tokenizer: an instantiated tokenizer\n",
        "    :is_training: whether input texts are from the training split or not\n",
        "    :max_seq_length: the max token sequence previously computed with\n",
        "    training texts.\n",
        "\n",
        "    :return\n",
        "        text_ids: a nested list on token indices\n",
        "        max_seq_length: the max token sequence previously computed with\n",
        "        training texts.\n",
        "    \"\"\"\n",
        "\n",
        "    text_ids = tokenizer.convert_tokens_to_ids(texts)\n",
        "\n",
        "    # post\n",
        "    if is_training:\n",
        "        max_seq_length = int(np.quantile([len(seq) for seq in text_ids], 0.99))\n",
        "    else:\n",
        "        assert max_seq_length is not None\n",
        "\n",
        "    text_ids = [seq + [0] * (max_seq_length - len(seq)) for seq in text_ids]\n",
        "    text_ids = np.array([seq[:max_seq_length] for seq in text_ids])\n",
        "\n",
        "    if is_training:\n",
        "        return text_ids, max_seq_length\n",
        "    else:\n",
        "        return text_ids"
      ]
    },
    {
      "cell_type": "code",
      "execution_count": null,
      "metadata": {
        "id": "c1A8tzFZUrLp"
      },
      "outputs": [],
      "source": [
        "def convert(tokenizer):\n",
        "    \"\"\"\n",
        "    Converts input text sequences using a given tokenizer\n",
        "\n",
        "    :tokenizer: an instantiated tokenizer for words\n",
        "    :labels_tokenizer: an instantiated tokenizer for words\n",
        "\n",
        "    :return\n",
        "        max_seq_length: the max token sequence previously computed with\n",
        "        training texts.\n",
        "    \"\"\"\n",
        "    global x_train_c, x_train_e , y_train, x_val_c, x_val_e, y_val, x_test_c,x_test_e, y_test\n",
        "\n",
        "    # Train\n",
        "    x_train_e, max_seq_length = convert_text(x_train_e, tokenizer, True)\n",
        "    x_train_c = convert_text(x_train_c, tokenizer, False, max_seq_length)\n",
        "\n",
        "    # Val\n",
        "    x_val_c = convert_text(x_val_c, tokenizer, False, max_seq_length)\n",
        "    x_val_e = convert_text(x_val_e, tokenizer, False, max_seq_length)\n",
        "\n",
        "    # Test\n",
        "    x_test_c = convert_text(x_test_c, tokenizer, False, max_seq_length)\n",
        "    x_test_e = convert_text(x_test_e, tokenizer, False, max_seq_length)\n",
        "    \n",
        "    print(\"Max token sequence: {}\".format(max_seq_length))\n",
        "\n",
        "    print('X train of Claim shape: ', x_train_c.shape)\n",
        "    print('X train of Evidence shape: ', x_train_e.shape)\n",
        "    print('Y train shape: ', y_train.shape)\n",
        "\n",
        "    print('X val of Claim shape: ', x_val_c.shape)\n",
        "    print('X val of Evidence shape: ', x_val_e.shape)\n",
        "    print('Y val shape: ', y_val.shape)\n",
        "\n",
        "    print('X test of Claim shape: ', x_test_c.shape)\n",
        "    print('X test of Evidence shape: ', x_test_e.shape)\n",
        "    print('Y test shape: ', y_test.shape)\n",
        "\n",
        "    return max_seq_length"
      ]
    },
    {
      "cell_type": "markdown",
      "metadata": {
        "id": "mumQBJX8_kf1"
      },
      "source": [
        "##Run preprocessing"
      ]
    },
    {
      "cell_type": "code",
      "source": [
        "# pre-processing params\n",
        "\n",
        "# num of samples used\n",
        "# replace the number by a desired percentage of data to be used (0 to 1)\n",
        "TRAIN_SIZE = int(121740 * 1) #121740\n",
        "VAL_SIZE = int(7165 * 1) #7165\n",
        "\n",
        "# split data into train val and test\n",
        "split_data(dfc,TRAIN_SIZE, VAL_SIZE)"
      ],
      "metadata": {
        "id": "nvjmJKkWethp",
        "colab": {
          "base_uri": "https://localhost:8080/"
        },
        "outputId": "243f4c96-1784-439c-a279-506dff5265a6"
      },
      "execution_count": null,
      "outputs": [
        {
          "output_type": "stream",
          "name": "stdout",
          "text": [
            "Dataset splits statistics: \n",
            "Train data:  (121740,)\n",
            "Validation data:  (7165,)\n",
            "Test data:  (7189,)\n"
          ]
        }
      ]
    },
    {
      "cell_type": "code",
      "execution_count": null,
      "metadata": {
        "id": "3XZTI70Q-1oo",
        "colab": {
          "base_uri": "https://localhost:8080/"
        },
        "outputId": "44b6b190-897f-4b41-d6c8-8f95d25a91e2"
      },
      "outputs": [
        {
          "output_type": "stream",
          "name": "stdout",
          "text": [
            "Fitting tokenizer...\n",
            "Fit completed!\n",
            "Fitting tokenizer...\n",
            "Fit completed!\n",
            "Fitting tokenizer...\n",
            "Fit completed!\n",
            "Fitting tokenizer...\n",
            "Fit completed!\n",
            "Fitting tokenizer...\n",
            "Fit completed!\n",
            "Fitting tokenizer...\n",
            "Fit completed!\n",
            "\n",
            "Word Tokenizer info:  {'vocab_size': 35790}\n",
            "Max token sequence: 123\n",
            "X train of Claim shape:  (121740, 123)\n",
            "X train of Evidence shape:  (121740, 123)\n",
            "Y train shape:  (121740,)\n",
            "X val of Claim shape:  (7165, 123)\n",
            "X val of Evidence shape:  (7165, 123)\n",
            "Y val shape:  (7165,)\n",
            "X test of Claim shape:  (7189, 123)\n",
            "X test of Evidence shape:  (7189, 123)\n",
            "Y test shape:  (7189,)\n"
          ]
        }
      ],
      "source": [
        "# build the vocab for text\n",
        "tokenizer = build_vocabulary()\n",
        "\n",
        "# convert sequences to integers and pad them\n",
        "max_seq_length = convert(tokenizer)"
      ]
    },
    {
      "cell_type": "markdown",
      "source": [
        "#II- Model Training"
      ],
      "metadata": {
        "id": "lVYE82zdqts4"
      }
    },
    {
      "cell_type": "markdown",
      "source": [
        "##Model definition and training setup"
      ],
      "metadata": {
        "id": "x_UhFpPhSaNb"
      }
    },
    {
      "cell_type": "code",
      "source": [
        "def create_model():\n",
        "    \"\"\"\n",
        "    Builds and compiles model\n",
        "    :return\n",
        "        model: untrained Keras model\n",
        "    \"\"\"\n",
        "    model = keras.Model(\n",
        "        inputs=[claim_input, evidence_input],\n",
        "        outputs=[output])\n",
        "    \n",
        "    model.compile(\n",
        "        optimizer='adam', \n",
        "        loss=tf.keras.losses.BinaryCrossentropy(), \n",
        "        metrics=['accuracy'])\n",
        "    \n",
        "    model.summary()\n",
        "\n",
        "    return model\n",
        "\n",
        "def show_history(history: keras.callbacks.History):\n",
        "    \"\"\"\n",
        "    Shows training history data stored by the History Keras callback\n",
        "\n",
        "    :param history: History Keras callback\n",
        "    \"\"\"\n",
        "\n",
        "    history_data = history.history\n",
        "    print(\"Displaying the following history keys: \", history_data.keys())\n",
        "\n",
        "    for key, value in history_data.items():\n",
        "        if not key.startswith('val'):\n",
        "            fig, ax = plt.subplots(1, 1)\n",
        "            ax.set_title(key)\n",
        "            ax.plot(value)\n",
        "            if 'val_{}'.format(key) in history_data:\n",
        "                ax.plot(history_data['val_{}'.format(key)])\n",
        "            else:\n",
        "                print(\"Couldn't find validation values for metric: \", key)\n",
        "\n",
        "            ax.set_ylabel(key)\n",
        "            ax.set_xlabel('epoch')\n",
        "            ax.legend(['train', 'val'], loc='best')\n",
        "\n",
        "    plt.show()\n",
        "\n",
        "\n",
        "def train_model(model: keras.Model,\n",
        "                x_train: np.ndarray,\n",
        "                y_train: np.ndarray,\n",
        "                x_val: np.ndarray,\n",
        "                y_val: np.ndarray,\n",
        "                training_info: Dict):\n",
        "    \"\"\"\n",
        "    Training routine for the Keras model.\n",
        "    At the end of the training, retrieved History data is shown.\n",
        "\n",
        "    :param model: Keras built model\n",
        "    :param x_train: training data in np.ndarray format\n",
        "    :param y_train: training labels in np.ndarray format\n",
        "    :param x_val: validation data in np.ndarray format\n",
        "    :param y_val: validation labels in np.ndarray format\n",
        "    :param training_info: dictionary storing model fit() argument information\n",
        "\n",
        "    :return\n",
        "        model: trained Keras model\n",
        "    \"\"\"\n",
        "    print(\"Start training! \\nParameters: {}\\nTrain size: {}\\nVal size: {}\".format(training_info,TRAIN_SIZE,VAL_SIZE))\n",
        "    history = model.fit(x=x_train, y=y_train,\n",
        "                        validation_data=(x_val, y_val),\n",
        "                        **training_info)\n",
        "    print(\"Training completed! Showing history...\")\n",
        "\n",
        "    show_history(history)\n",
        "\n",
        "    return model"
      ],
      "metadata": {
        "id": "371S4TOTScsh"
      },
      "execution_count": null,
      "outputs": []
    },
    {
      "cell_type": "markdown",
      "source": [
        "##Sentence Embedding strategies"
      ],
      "metadata": {
        "id": "Ezyg1JlT022d"
      }
    },
    {
      "cell_type": "markdown",
      "source": [
        "Throughout the experiments we used the following nomenclature:\n",
        "\n",
        "models are named \"model_**ABx**\" where:\n",
        "* A = sentence embedding strategy (1-4)\n",
        "* B = input merging strategy (1-3)\n",
        "* presence of x indicates cosine similarity extension was used\n",
        "\n",
        "---\n",
        "\n",
        "In this section, we test out the multiple sentence embedding strategies:\n",
        "1.  RNN with output as the sentence embedding.\n",
        "\n",
        "2.  RNN and average all the output states.\n",
        "\n",
        "3.  MLP.\n",
        "\n",
        "4.  Bag of vectors.\n",
        "\n",
        "**NB:** In this section we use the same input merging strategy i.e. concatenation, to avoid trying every single combination.\n",
        "\n"
      ],
      "metadata": {
        "id": "mRTd0r2wKxkc"
      }
    },
    {
      "cell_type": "markdown",
      "metadata": {
        "id": "skBamOnKBgux"
      },
      "source": [
        "###Compile"
      ]
    },
    {
      "cell_type": "code",
      "source": [
        "#hyperparams\n",
        "w_embedding_dim = 200\n",
        "s_embedding_dim = 128\n",
        "\n",
        "vocab_size = len(tokenizer.vocab)+1"
      ],
      "metadata": {
        "id": "6K5VDhiryLPT"
      },
      "execution_count": null,
      "outputs": []
    },
    {
      "cell_type": "code",
      "source": [
        "# model 11: last state (output)\n",
        "claim_input = keras.Input(shape = (max_seq_length,), name=\"claim\") \n",
        "evidence_input = keras.Input(shape = (max_seq_length,), name=\"evidence\") \n",
        "\n",
        "claim_w_embeds = layers.Embedding(vocab_size, w_embedding_dim, mask_zero=True) (claim_input)\n",
        "evidence_w_embeds = layers.Embedding(vocab_size, w_embedding_dim, mask_zero=True) (evidence_input)\n",
        "\n",
        "claim_features = layers.LSTM(s_embedding_dim) (claim_w_embeds)\n",
        "evidence_features = layers.LSTM(s_embedding_dim) (evidence_w_embeds)\n",
        "\n",
        "concat = layers.concatenate([claim_features, evidence_features])\n",
        "\n",
        "output = layers.Dense(1, activation= 'sigmoid') (concat)\n",
        "\n",
        "model_11 = create_model()\n",
        "\n",
        "# display model architecture for first model only\n",
        "keras.utils.plot_model(model_11, \"model shape.png\", show_shapes=True)"
      ],
      "metadata": {
        "colab": {
          "base_uri": "https://localhost:8080/",
          "height": 984
        },
        "outputId": "d49771e4-f6d9-4ec3-8518-91174d0c27a6",
        "id": "UN1vrqqzBTk2"
      },
      "execution_count": null,
      "outputs": [
        {
          "output_type": "stream",
          "name": "stdout",
          "text": [
            "Model: \"model\"\n",
            "__________________________________________________________________________________________________\n",
            " Layer (type)                   Output Shape         Param #     Connected to                     \n",
            "==================================================================================================\n",
            " claim (InputLayer)             [(None, 123)]        0           []                               \n",
            "                                                                                                  \n",
            " evidence (InputLayer)          [(None, 123)]        0           []                               \n",
            "                                                                                                  \n",
            " embedding (Embedding)          (None, 123, 200)     7158000     ['claim[0][0]']                  \n",
            "                                                                                                  \n",
            " embedding_1 (Embedding)        (None, 123, 200)     7158000     ['evidence[0][0]']               \n",
            "                                                                                                  \n",
            " lstm (LSTM)                    (None, 128)          168448      ['embedding[0][0]']              \n",
            "                                                                                                  \n",
            " lstm_1 (LSTM)                  (None, 128)          168448      ['embedding_1[0][0]']            \n",
            "                                                                                                  \n",
            " concatenate (Concatenate)      (None, 256)          0           ['lstm[0][0]',                   \n",
            "                                                                  'lstm_1[0][0]']                 \n",
            "                                                                                                  \n",
            " dense (Dense)                  (None, 1)            257         ['concatenate[0][0]']            \n",
            "                                                                                                  \n",
            "==================================================================================================\n",
            "Total params: 14,653,153\n",
            "Trainable params: 14,653,153\n",
            "Non-trainable params: 0\n",
            "__________________________________________________________________________________________________\n"
          ]
        },
        {
          "output_type": "execute_result",
          "data": {
            "image/png": "[encoded data removed]",
            "text/plain": [
              "<IPython.core.display.Image object>"
            ]
          },
          "metadata": {},
          "execution_count": 24
        }
      ]
    },
    {
      "cell_type": "code",
      "execution_count": null,
      "metadata": {
        "colab": {
          "base_uri": "https://localhost:8080/"
        },
        "outputId": "7fc53b9c-08cb-4a60-bf3f-6a2bb9e9a178",
        "id": "uIRksDhlBTk3"
      },
      "outputs": [
        {
          "output_type": "stream",
          "name": "stdout",
          "text": [
            "Model: \"model_1\"\n",
            "__________________________________________________________________________________________________\n",
            " Layer (type)                   Output Shape         Param #     Connected to                     \n",
            "==================================================================================================\n",
            " claim (InputLayer)             [(None, 123)]        0           []                               \n",
            "                                                                                                  \n",
            " evidence (InputLayer)          [(None, 123)]        0           []                               \n",
            "                                                                                                  \n",
            " embedding_2 (Embedding)        (None, 123, 200)     7158000     ['claim[0][0]']                  \n",
            "                                                                                                  \n",
            " embedding_3 (Embedding)        (None, 123, 200)     7158000     ['evidence[0][0]']               \n",
            "                                                                                                  \n",
            " lstm_2 (LSTM)                  (None, 123, 128)     168448      ['embedding_2[0][0]']            \n",
            "                                                                                                  \n",
            " lstm_3 (LSTM)                  (None, 123, 128)     168448      ['embedding_3[0][0]']            \n",
            "                                                                                                  \n",
            " average_c (Lambda)             (None, 128)          0           ['lstm_2[0][0]']                 \n",
            "                                                                                                  \n",
            " average_e (Lambda)             (None, 128)          0           ['lstm_3[0][0]']                 \n",
            "                                                                                                  \n",
            " concatenate_1 (Concatenate)    (None, 256)          0           ['average_c[0][0]',              \n",
            "                                                                  'average_e[0][0]']              \n",
            "                                                                                                  \n",
            " dense_1 (Dense)                (None, 1)            257         ['concatenate_1[0][0]']          \n",
            "                                                                                                  \n",
            "==================================================================================================\n",
            "Total params: 14,653,153\n",
            "Trainable params: 14,653,153\n",
            "Non-trainable params: 0\n",
            "__________________________________________________________________________________________________\n"
          ]
        }
      ],
      "source": [
        "#model 21: average output states\n",
        "# s: sentence ; w: word ; embed: embeddings\n",
        "\n",
        "claim_input = keras.Input(shape = (max_seq_length,), name=\"claim\") \n",
        "evidence_input = keras.Input(shape = (max_seq_length,), name=\"evidence\") \n",
        "\n",
        "claim_w_embed = layers.Embedding(vocab_size, w_embedding_dim, mask_zero=True) (claim_input)\n",
        "evidence_w_embed = layers.Embedding(vocab_size, w_embedding_dim, mask_zero=True) (evidence_input)\n",
        "\n",
        "claim_s_embed = layers.LSTM(s_embedding_dim, return_sequences=True) (claim_w_embed) #[batch_size, timesteps, output_size]\n",
        "evidence_s_embed = layers.LSTM(s_embedding_dim,return_sequences=True) (evidence_w_embed)\n",
        "\n",
        "claim_features = layers.Lambda(lambda x: tf.reduce_mean(x, axis=1), name='average_c') (claim_s_embed)\n",
        "evidence_features = layers.Lambda(lambda x: tf.reduce_mean(x, axis=1), name='average_e') (evidence_s_embed)\n",
        "\n",
        "concat = layers.concatenate([claim_features, evidence_features])\n",
        "\n",
        "output = layers.Dense(1, activation= 'sigmoid') (concat)\n",
        "\n",
        "model_21 = create_model()"
      ]
    },
    {
      "cell_type": "code",
      "source": [
        "# model 31: MLP\n",
        "claim_input = keras.Input(shape = (max_seq_length,), name=\"claim\") \n",
        "evidence_input = keras.Input(shape = (max_seq_length,), name=\"evidence\") \n",
        "\n",
        "claim_w_embed = layers.Embedding(vocab_size, w_embedding_dim, mask_zero=True) (claim_input)\n",
        "evidence_w_embed = layers.Embedding(vocab_size, w_embedding_dim, mask_zero=True) (evidence_input)\n",
        "\n",
        "x1 = layers.Flatten() (claim_w_embed)\n",
        "x2 = layers.Flatten() (evidence_w_embed)\n",
        "\n",
        "claim_features = layers.Dense(s_embedding_dim) (x1)\n",
        "evidence_features = layers.Dense(s_embedding_dim) (x2)\n",
        "\n",
        "concat = layers.concatenate([claim_features, evidence_features])\n",
        "\n",
        "output = layers.Dense(1, activation= 'sigmoid') (concat)\n",
        "\n",
        "model_31 = create_model()"
      ],
      "metadata": {
        "colab": {
          "base_uri": "https://localhost:8080/"
        },
        "outputId": "c533a9e5-54fd-4a26-dbc7-bbf686648fd4",
        "id": "747HL4QFBTk3"
      },
      "execution_count": null,
      "outputs": [
        {
          "output_type": "stream",
          "name": "stdout",
          "text": [
            "Model: \"model_2\"\n",
            "__________________________________________________________________________________________________\n",
            " Layer (type)                   Output Shape         Param #     Connected to                     \n",
            "==================================================================================================\n",
            " claim (InputLayer)             [(None, 123)]        0           []                               \n",
            "                                                                                                  \n",
            " evidence (InputLayer)          [(None, 123)]        0           []                               \n",
            "                                                                                                  \n",
            " embedding_4 (Embedding)        (None, 123, 200)     7158000     ['claim[0][0]']                  \n",
            "                                                                                                  \n",
            " embedding_5 (Embedding)        (None, 123, 200)     7158000     ['evidence[0][0]']               \n",
            "                                                                                                  \n",
            " flatten (Flatten)              (None, 24600)        0           ['embedding_4[0][0]']            \n",
            "                                                                                                  \n",
            " flatten_1 (Flatten)            (None, 24600)        0           ['embedding_5[0][0]']            \n",
            "                                                                                                  \n",
            " dense_2 (Dense)                (None, 128)          3148928     ['flatten[0][0]']                \n",
            "                                                                                                  \n",
            " dense_3 (Dense)                (None, 128)          3148928     ['flatten_1[0][0]']              \n",
            "                                                                                                  \n",
            " concatenate_2 (Concatenate)    (None, 256)          0           ['dense_2[0][0]',                \n",
            "                                                                  'dense_3[0][0]']                \n",
            "                                                                                                  \n",
            " dense_4 (Dense)                (None, 1)            257         ['concatenate_2[0][0]']          \n",
            "                                                                                                  \n",
            "==================================================================================================\n",
            "Total params: 20,614,113\n",
            "Trainable params: 20,614,113\n",
            "Non-trainable params: 0\n",
            "__________________________________________________________________________________________________\n"
          ]
        }
      ]
    },
    {
      "cell_type": "code",
      "source": [
        "# model 41: BoV\n",
        "claim_input = keras.Input(shape = (max_seq_length,), name=\"claim\") \n",
        "evidence_input = keras.Input(shape = (max_seq_length,), name=\"evidence\") \n",
        "\n",
        "claim_w_embed = layers.Embedding(vocab_size, w_embedding_dim, mask_zero=True) (claim_input)\n",
        "evidence_w_embed = layers.Embedding(vocab_size, w_embedding_dim, mask_zero=True) (evidence_input)\n",
        "\n",
        "claim_features = layers.Lambda(lambda x: tf.reduce_mean(x, axis=1), name='average_c') (claim_w_embed)\n",
        "evidence_features = layers.Lambda(lambda x: tf.reduce_mean(x, axis=1), name='average_e') (evidence_w_embed)\n",
        "\n",
        "concat = layers.concatenate([claim_features, evidence_features])\n",
        "\n",
        "output = layers.Dense(1, activation= 'sigmoid') (concat)\n",
        "\n",
        "model_41 = create_model()"
      ],
      "metadata": {
        "colab": {
          "base_uri": "https://localhost:8080/"
        },
        "outputId": "eb816945-dad4-49f9-e90b-894c271e5d25",
        "id": "t9UCsd0_BTk4"
      },
      "execution_count": null,
      "outputs": [
        {
          "output_type": "stream",
          "name": "stdout",
          "text": [
            "Model: \"model_3\"\n",
            "__________________________________________________________________________________________________\n",
            " Layer (type)                   Output Shape         Param #     Connected to                     \n",
            "==================================================================================================\n",
            " claim (InputLayer)             [(None, 123)]        0           []                               \n",
            "                                                                                                  \n",
            " evidence (InputLayer)          [(None, 123)]        0           []                               \n",
            "                                                                                                  \n",
            " embedding_6 (Embedding)        (None, 123, 200)     7158000     ['claim[0][0]']                  \n",
            "                                                                                                  \n",
            " embedding_7 (Embedding)        (None, 123, 200)     7158000     ['evidence[0][0]']               \n",
            "                                                                                                  \n",
            " average_c (Lambda)             (None, 200)          0           ['embedding_6[0][0]']            \n",
            "                                                                                                  \n",
            " average_e (Lambda)             (None, 200)          0           ['embedding_7[0][0]']            \n",
            "                                                                                                  \n",
            " concatenate_3 (Concatenate)    (None, 400)          0           ['average_c[0][0]',              \n",
            "                                                                  'average_e[0][0]']              \n",
            "                                                                                                  \n",
            " dense_5 (Dense)                (None, 1)            401         ['concatenate_3[0][0]']          \n",
            "                                                                                                  \n",
            "==================================================================================================\n",
            "Total params: 14,316,401\n",
            "Trainable params: 14,316,401\n",
            "Non-trainable params: 0\n",
            "__________________________________________________________________________________________________\n"
          ]
        }
      ]
    },
    {
      "cell_type": "markdown",
      "metadata": {
        "id": "vDyRtRjGswvI"
      },
      "source": [
        "###Train"
      ]
    },
    {
      "cell_type": "code",
      "source": [
        "history = model_11.fit(\n",
        "    {\"claim\": x_train_c, \"evidence\": x_train_e},\n",
        "    y = y_train,\n",
        "    validation_data=((x_val_c, x_val_e), y_val),\n",
        "    epochs=10,\n",
        "    batch_size=1024,\n",
        "    callbacks = [keras.callbacks.EarlyStopping(monitor='val_loss', \n",
        "                                                patience=3,\n",
        "                                                restore_best_weights=True)]\n",
        ")\n",
        "show_history(history)"
      ],
      "metadata": {
        "id": "MdP7u96jQfhD",
        "colab": {
          "base_uri": "https://localhost:8080/",
          "height": 764
        },
        "outputId": "52933283-087b-45e7-f217-3cce7348962b"
      },
      "execution_count": null,
      "outputs": [
        {
          "output_type": "stream",
          "name": "stdout",
          "text": [
            "Epoch 1/10\n",
            "119/119 [==============================] - 19s 80ms/step - loss: 0.4628 - accuracy: 0.7974 - val_loss: 0.5825 - val_accuracy: 0.7086\n",
            "Epoch 2/10\n",
            "119/119 [==============================] - 8s 64ms/step - loss: 0.3383 - accuracy: 0.8572 - val_loss: 0.5539 - val_accuracy: 0.7319\n",
            "Epoch 3/10\n",
            "119/119 [==============================] - 8s 64ms/step - loss: 0.2946 - accuracy: 0.8755 - val_loss: 0.5635 - val_accuracy: 0.7403\n",
            "Epoch 4/10\n",
            "119/119 [==============================] - 8s 64ms/step - loss: 0.2664 - accuracy: 0.8878 - val_loss: 0.6116 - val_accuracy: 0.7344\n",
            "Epoch 5/10\n",
            "119/119 [==============================] - 8s 65ms/step - loss: 0.2415 - accuracy: 0.8977 - val_loss: 0.6636 - val_accuracy: 0.7298\n",
            "Displaying the following history keys:  dict_keys(['loss', 'accuracy', 'val_loss', 'val_accuracy'])\n"
          ]
        },
        {
          "output_type": "display_data",
          "data": {
            "text/plain": [
              "<Figure size 432x288 with 1 Axes>"
            ],
            "image/png": "[encoded data removed]"
          },
          "metadata": {
            "needs_background": "light"
          }
        },
        {
          "output_type": "display_data",
          "data": {
            "text/plain": [
              "<Figure size 432x288 with 1 Axes>"
            ],
            "image/png": "[encoded data removed]"
          },
          "metadata": {
            "needs_background": "light"
          }
        }
      ]
    },
    {
      "cell_type": "code",
      "source": [
        "history = model_21.fit(\n",
        "    {\"claim\": x_train_c, \"evidence\": x_train_e},\n",
        "    y = y_train,\n",
        "    validation_data=((x_val_c, x_val_e), y_val),\n",
        "    epochs=10,\n",
        "    batch_size=1024,\n",
        "    callbacks = [keras.callbacks.EarlyStopping(monitor='val_loss', \n",
        "                                                patience=3,\n",
        "                                                restore_best_weights=True)]\n",
        ")\n",
        "show_history(history)"
      ],
      "metadata": {
        "colab": {
          "base_uri": "https://localhost:8080/",
          "height": 833
        },
        "id": "S9F74Oa698Bc",
        "outputId": "a59d997d-bded-445f-d343-f9eb3f58df84"
      },
      "execution_count": null,
      "outputs": [
        {
          "output_type": "stream",
          "name": "stdout",
          "text": [
            "Epoch 1/10\n",
            "119/119 [==============================] - 16s 86ms/step - loss: 0.5712 - accuracy: 0.7332 - val_loss: 0.6903 - val_accuracy: 0.5297\n",
            "Epoch 2/10\n",
            "119/119 [==============================] - 8s 68ms/step - loss: 0.4688 - accuracy: 0.7925 - val_loss: 0.6450 - val_accuracy: 0.6597\n",
            "Epoch 3/10\n",
            "119/119 [==============================] - 8s 68ms/step - loss: 0.4125 - accuracy: 0.8292 - val_loss: 0.6663 - val_accuracy: 0.6706\n",
            "Epoch 4/10\n",
            "119/119 [==============================] - 8s 68ms/step - loss: 0.3792 - accuracy: 0.8428 - val_loss: 0.6380 - val_accuracy: 0.6826\n",
            "Epoch 5/10\n",
            "119/119 [==============================] - 8s 68ms/step - loss: 0.3540 - accuracy: 0.8536 - val_loss: 0.6727 - val_accuracy: 0.6860\n",
            "Epoch 6/10\n",
            "119/119 [==============================] - 8s 69ms/step - loss: 0.3333 - accuracy: 0.8626 - val_loss: 0.6447 - val_accuracy: 0.6948\n",
            "Epoch 7/10\n",
            "119/119 [==============================] - 8s 69ms/step - loss: 0.3160 - accuracy: 0.8696 - val_loss: 0.6817 - val_accuracy: 0.6973\n",
            "Displaying the following history keys:  dict_keys(['loss', 'accuracy', 'val_loss', 'val_accuracy'])\n"
          ]
        },
        {
          "output_type": "display_data",
          "data": {
            "text/plain": [
              "<Figure size 432x288 with 1 Axes>"
            ],
            "image/png": "[encoded data removed]"
          },
          "metadata": {
            "needs_background": "light"
          }
        },
        {
          "output_type": "display_data",
          "data": {
            "text/plain": [
              "<Figure size 432x288 with 1 Axes>"
            ],
            "image/png": "[encoded data removed]"
          },
          "metadata": {
            "needs_background": "light"
          }
        }
      ]
    },
    {
      "cell_type": "code",
      "source": [
        "history = model_31.fit(\n",
        "    {\"claim\": x_train_c, \"evidence\": x_train_e},\n",
        "    y = y_train,\n",
        "    validation_data=((x_val_c, x_val_e), y_val),\n",
        "    epochs=10,\n",
        "    batch_size=1024,\n",
        "    callbacks = [keras.callbacks.EarlyStopping(monitor='val_loss', \n",
        "                                                patience=3,\n",
        "                                                restore_best_weights=True)]\n",
        ")\n",
        "show_history(history)"
      ],
      "metadata": {
        "colab": {
          "base_uri": "https://localhost:8080/",
          "height": 764
        },
        "id": "o4qeR0bks4ee",
        "outputId": "4edf49d8-5155-4fd3-9dba-7b29ae3176ee"
      },
      "execution_count": null,
      "outputs": [
        {
          "output_type": "stream",
          "name": "stdout",
          "text": [
            "Epoch 1/10\n",
            "119/119 [==============================] - 4s 31ms/step - loss: 0.5339 - accuracy: 0.7782 - val_loss: 0.6293 - val_accuracy: 0.6826\n",
            "Epoch 2/10\n",
            "119/119 [==============================] - 4s 30ms/step - loss: 0.3424 - accuracy: 0.8548 - val_loss: 0.6126 - val_accuracy: 0.7114\n",
            "Epoch 3/10\n",
            "119/119 [==============================] - 4s 30ms/step - loss: 0.2853 - accuracy: 0.8809 - val_loss: 0.6982 - val_accuracy: 0.7101\n",
            "Epoch 4/10\n",
            "119/119 [==============================] - 4s 30ms/step - loss: 0.2410 - accuracy: 0.9012 - val_loss: 0.6961 - val_accuracy: 0.7209\n",
            "Epoch 5/10\n",
            "119/119 [==============================] - 4s 30ms/step - loss: 0.2103 - accuracy: 0.9142 - val_loss: 0.7499 - val_accuracy: 0.7181\n",
            "Displaying the following history keys:  dict_keys(['loss', 'accuracy', 'val_loss', 'val_accuracy'])\n"
          ]
        },
        {
          "output_type": "display_data",
          "data": {
            "text/plain": [
              "<Figure size 432x288 with 1 Axes>"
            ],
            "image/png": "[encoded data removed]"
          },
          "metadata": {
            "needs_background": "light"
          }
        },
        {
          "output_type": "display_data",
          "data": {
            "text/plain": [
              "<Figure size 432x288 with 1 Axes>"
            ],
            "image/png": "[encoded data removed]"
          },
          "metadata": {
            "needs_background": "light"
          }
        }
      ]
    },
    {
      "cell_type": "code",
      "source": [
        "history = model_41.fit(\n",
        "    {\"claim\": x_train_c, \"evidence\": x_train_e},\n",
        "    y = y_train,\n",
        "    validation_data=((x_val_c, x_val_e), y_val),\n",
        "    epochs=30,\n",
        "    batch_size=1024,\n",
        "    callbacks = [keras.callbacks.EarlyStopping(monitor='val_loss', \n",
        "                                                patience=3,\n",
        "                                                restore_best_weights=True)]\n",
        ")\n",
        "show_history(history)"
      ],
      "metadata": {
        "colab": {
          "base_uri": "https://localhost:8080/",
          "height": 1000
        },
        "id": "b_A_OOEjk9Qn",
        "outputId": "52eca93d-316d-48e6-9840-778c0e2b9d4d"
      },
      "execution_count": null,
      "outputs": [
        {
          "output_type": "stream",
          "name": "stdout",
          "text": [
            "Epoch 1/30\n",
            "119/119 [==============================] - 3s 24ms/step - loss: 0.5893 - accuracy: 0.7333 - val_loss: 0.8105 - val_accuracy: 0.5040\n",
            "Epoch 2/30\n",
            "119/119 [==============================] - 3s 23ms/step - loss: 0.5730 - accuracy: 0.7343 - val_loss: 0.8008 - val_accuracy: 0.5040\n",
            "Epoch 3/30\n",
            "119/119 [==============================] - 3s 23ms/step - loss: 0.5642 - accuracy: 0.7343 - val_loss: 0.7792 - val_accuracy: 0.5040\n",
            "Epoch 4/30\n",
            "119/119 [==============================] - 3s 23ms/step - loss: 0.5485 - accuracy: 0.7343 - val_loss: 0.7643 - val_accuracy: 0.5043\n",
            "Epoch 5/30\n",
            "119/119 [==============================] - 3s 23ms/step - loss: 0.5252 - accuracy: 0.7366 - val_loss: 0.7546 - val_accuracy: 0.5100\n",
            "Epoch 6/30\n",
            "119/119 [==============================] - 3s 23ms/step - loss: 0.4978 - accuracy: 0.7529 - val_loss: 0.7134 - val_accuracy: 0.5475\n",
            "Epoch 7/30\n",
            "119/119 [==============================] - 3s 23ms/step - loss: 0.4720 - accuracy: 0.7768 - val_loss: 0.6866 - val_accuracy: 0.5853\n",
            "Epoch 8/30\n",
            "119/119 [==============================] - 3s 23ms/step - loss: 0.4489 - accuracy: 0.7958 - val_loss: 0.6550 - val_accuracy: 0.6279\n",
            "Epoch 9/30\n",
            "119/119 [==============================] - 3s 23ms/step - loss: 0.4287 - accuracy: 0.8108 - val_loss: 0.7131 - val_accuracy: 0.6124\n",
            "Epoch 10/30\n",
            "119/119 [==============================] - 3s 23ms/step - loss: 0.4116 - accuracy: 0.8218 - val_loss: 0.6467 - val_accuracy: 0.6560\n",
            "Epoch 11/30\n",
            "119/119 [==============================] - 3s 23ms/step - loss: 0.3965 - accuracy: 0.8310 - val_loss: 0.6375 - val_accuracy: 0.6659\n",
            "Epoch 12/30\n",
            "119/119 [==============================] - 3s 23ms/step - loss: 0.3845 - accuracy: 0.8381 - val_loss: 0.6439 - val_accuracy: 0.6699\n",
            "Epoch 13/30\n",
            "119/119 [==============================] - 3s 23ms/step - loss: 0.3735 - accuracy: 0.8427 - val_loss: 0.6409 - val_accuracy: 0.6751\n",
            "Epoch 14/30\n",
            "119/119 [==============================] - 3s 24ms/step - loss: 0.3642 - accuracy: 0.8475 - val_loss: 0.6286 - val_accuracy: 0.6849\n",
            "Epoch 15/30\n",
            "119/119 [==============================] - 3s 23ms/step - loss: 0.3563 - accuracy: 0.8504 - val_loss: 0.6169 - val_accuracy: 0.6939\n",
            "Epoch 16/30\n",
            "119/119 [==============================] - 3s 23ms/step - loss: 0.3492 - accuracy: 0.8533 - val_loss: 0.6232 - val_accuracy: 0.6962\n",
            "Epoch 17/30\n",
            "119/119 [==============================] - 3s 23ms/step - loss: 0.3427 - accuracy: 0.8565 - val_loss: 0.6595 - val_accuracy: 0.6864\n",
            "Epoch 18/30\n",
            "119/119 [==============================] - 3s 23ms/step - loss: 0.3369 - accuracy: 0.8588 - val_loss: 0.6523 - val_accuracy: 0.6927\n",
            "Displaying the following history keys:  dict_keys(['loss', 'accuracy', 'val_loss', 'val_accuracy'])\n"
          ]
        },
        {
          "output_type": "display_data",
          "data": {
            "text/plain": [
              "<Figure size 432x288 with 1 Axes>"
            ],
            "image/png": "[encoded data removed]"
          },
          "metadata": {
            "needs_background": "light"
          }
        },
        {
          "output_type": "display_data",
          "data": {
            "text/plain": [
              "<Figure size 432x288 with 1 Axes>"
            ],
            "image/png": "[encoded data removed]"
          },
          "metadata": {
            "needs_background": "light"
          }
        }
      ]
    },
    {
      "cell_type": "markdown",
      "source": [
        "###Results\n",
        "\n",
        "| Model      | Val Accuracy |\n",
        "| ----------- | :------:   |\n",
        "| model_11      | 0.735      |\n",
        "| model_21   | 0.679        |\n",
        "| model_31      | 0.728      |\n",
        "| model_41      | 0.699       |\n",
        "\n",
        "model_11 outperformed the rest so we chose sentence embedding strategy 1 (RNN with last output as sentence embedding) for the rest of the experiments"
      ],
      "metadata": {
        "id": "s_I1Eq1MBlZZ"
      }
    },
    {
      "cell_type": "markdown",
      "source": [
        "##Merging Inputs strategies"
      ],
      "metadata": {
        "id": "sCqfpwLj1u--"
      }
    },
    {
      "cell_type": "markdown",
      "source": [
        "In this section, we compare the input-merging strategies:\n",
        "1. Concatenation (already tested in previous section)\n",
        "2. Sum\n",
        "3. Mean\n"
      ],
      "metadata": {
        "id": "Sd9E-TawOqvY"
      }
    },
    {
      "cell_type": "markdown",
      "source": [
        "###Compile"
      ],
      "metadata": {
        "id": "lD_Rd2v2yZvm"
      }
    },
    {
      "cell_type": "code",
      "source": [
        "# model 12: last state (output) + sum inputs\n",
        "claim_input = keras.Input(shape = (max_seq_length,), name=\"claim\") \n",
        "evidence_input = keras.Input(shape = (max_seq_length,), name=\"evidence\") \n",
        "\n",
        "claim_w_embeds = layers.Embedding(vocab_size, w_embedding_dim, mask_zero=True) (claim_input)\n",
        "evidence_w_embeds = layers.Embedding(vocab_size, w_embedding_dim, mask_zero=True) (evidence_input)\n",
        "\n",
        "claim_features = layers.LSTM(s_embedding_dim) (claim_w_embeds)\n",
        "evidence_features = layers.LSTM(s_embedding_dim) (evidence_w_embeds)\n",
        "\n",
        "add = layers.Add() ([claim_features, evidence_features])\n",
        "\n",
        "output = layers.Dense(1, activation= 'sigmoid') (add)\n",
        "\n",
        "model_12 = create_model()"
      ],
      "metadata": {
        "id": "7FS-RDJl13wC",
        "colab": {
          "base_uri": "https://localhost:8080/"
        },
        "outputId": "ab027928-0d2a-4511-bc17-e47c72fa6be4"
      },
      "execution_count": null,
      "outputs": [
        {
          "output_type": "stream",
          "name": "stdout",
          "text": [
            "Model: \"model_4\"\n",
            "__________________________________________________________________________________________________\n",
            " Layer (type)                   Output Shape         Param #     Connected to                     \n",
            "==================================================================================================\n",
            " claim (InputLayer)             [(None, 123)]        0           []                               \n",
            "                                                                                                  \n",
            " evidence (InputLayer)          [(None, 123)]        0           []                               \n",
            "                                                                                                  \n",
            " embedding_8 (Embedding)        (None, 123, 200)     7158000     ['claim[0][0]']                  \n",
            "                                                                                                  \n",
            " embedding_9 (Embedding)        (None, 123, 200)     7158000     ['evidence[0][0]']               \n",
            "                                                                                                  \n",
            " lstm_4 (LSTM)                  (None, 128)          168448      ['embedding_8[0][0]']            \n",
            "                                                                                                  \n",
            " lstm_5 (LSTM)                  (None, 128)          168448      ['embedding_9[0][0]']            \n",
            "                                                                                                  \n",
            " add (Add)                      (None, 128)          0           ['lstm_4[0][0]',                 \n",
            "                                                                  'lstm_5[0][0]']                 \n",
            "                                                                                                  \n",
            " dense_6 (Dense)                (None, 1)            129         ['add[0][0]']                    \n",
            "                                                                                                  \n",
            "==================================================================================================\n",
            "Total params: 14,653,025\n",
            "Trainable params: 14,653,025\n",
            "Non-trainable params: 0\n",
            "__________________________________________________________________________________________________\n"
          ]
        }
      ]
    },
    {
      "cell_type": "code",
      "source": [
        "# model 13: last state (output) + mean of inputs\n",
        "claim_input = keras.Input(shape = (max_seq_length,), name=\"claim\") \n",
        "evidence_input = keras.Input(shape = (max_seq_length,), name=\"evidence\") \n",
        "\n",
        "claim_w_embeds = layers.Embedding(vocab_size, w_embedding_dim, mask_zero=True) (claim_input)\n",
        "evidence_w_embeds = layers.Embedding(vocab_size, w_embedding_dim, mask_zero=True) (evidence_input)\n",
        "\n",
        "claim_features = layers.LSTM(s_embedding_dim) (claim_w_embeds)\n",
        "evidence_features = layers.LSTM(s_embedding_dim) (evidence_w_embeds)\n",
        "\n",
        "mean = layers.Average() ([claim_features, evidence_features])\n",
        "\n",
        "output = layers.Dense(1, activation= 'sigmoid') (mean)\n",
        "\n",
        "model_13 = create_model()"
      ],
      "metadata": {
        "colab": {
          "base_uri": "https://localhost:8080/"
        },
        "id": "qQ1iXdTkQJ1V",
        "outputId": "1bd731aa-095a-4d11-baf8-ddb2fe38f886"
      },
      "execution_count": null,
      "outputs": [
        {
          "output_type": "stream",
          "name": "stdout",
          "text": [
            "Model: \"model_5\"\n",
            "__________________________________________________________________________________________________\n",
            " Layer (type)                   Output Shape         Param #     Connected to                     \n",
            "==================================================================================================\n",
            " claim (InputLayer)             [(None, 123)]        0           []                               \n",
            "                                                                                                  \n",
            " evidence (InputLayer)          [(None, 123)]        0           []                               \n",
            "                                                                                                  \n",
            " embedding_10 (Embedding)       (None, 123, 200)     7158000     ['claim[0][0]']                  \n",
            "                                                                                                  \n",
            " embedding_11 (Embedding)       (None, 123, 200)     7158000     ['evidence[0][0]']               \n",
            "                                                                                                  \n",
            " lstm_6 (LSTM)                  (None, 128)          168448      ['embedding_10[0][0]']           \n",
            "                                                                                                  \n",
            " lstm_7 (LSTM)                  (None, 128)          168448      ['embedding_11[0][0]']           \n",
            "                                                                                                  \n",
            " average (Average)              (None, 128)          0           ['lstm_6[0][0]',                 \n",
            "                                                                  'lstm_7[0][0]']                 \n",
            "                                                                                                  \n",
            " dense_7 (Dense)                (None, 1)            129         ['average[0][0]']                \n",
            "                                                                                                  \n",
            "==================================================================================================\n",
            "Total params: 14,653,025\n",
            "Trainable params: 14,653,025\n",
            "Non-trainable params: 0\n",
            "__________________________________________________________________________________________________\n"
          ]
        }
      ]
    },
    {
      "cell_type": "markdown",
      "source": [
        "###Train"
      ],
      "metadata": {
        "id": "rWMAPS4WTSF2"
      }
    },
    {
      "cell_type": "code",
      "source": [
        "history = model_12.fit(\n",
        "    {\"claim\": x_train_c, \"evidence\": x_train_e},\n",
        "    y = y_train,\n",
        "    validation_data=((x_val_c, x_val_e), y_val),\n",
        "    epochs=10,\n",
        "    batch_size=1024,\n",
        "    callbacks = [keras.callbacks.EarlyStopping(monitor='val_loss', \n",
        "                                                patience=3,\n",
        "                                                restore_best_weights=True)]\n",
        ")\n",
        "show_history(history)"
      ],
      "metadata": {
        "colab": {
          "base_uri": "https://localhost:8080/",
          "height": 764
        },
        "id": "p3T9MOVrTWO_",
        "outputId": "41a29683-64f6-48a7-d6f8-07a1212ba654"
      },
      "execution_count": null,
      "outputs": [
        {
          "output_type": "stream",
          "name": "stdout",
          "text": [
            "Epoch 1/10\n",
            "119/119 [==============================] - 17s 87ms/step - loss: 0.4580 - accuracy: 0.7997 - val_loss: 0.5809 - val_accuracy: 0.7103\n",
            "Epoch 2/10\n",
            "119/119 [==============================] - 8s 68ms/step - loss: 0.3370 - accuracy: 0.8568 - val_loss: 0.5349 - val_accuracy: 0.7403\n",
            "Epoch 3/10\n",
            "119/119 [==============================] - 8s 68ms/step - loss: 0.2943 - accuracy: 0.8760 - val_loss: 0.5846 - val_accuracy: 0.7362\n",
            "Epoch 4/10\n",
            "119/119 [==============================] - 8s 68ms/step - loss: 0.2653 - accuracy: 0.8877 - val_loss: 0.6004 - val_accuracy: 0.7376\n",
            "Epoch 5/10\n",
            "119/119 [==============================] - 8s 71ms/step - loss: 0.2416 - accuracy: 0.8975 - val_loss: 0.6596 - val_accuracy: 0.7327\n",
            "Displaying the following history keys:  dict_keys(['loss', 'accuracy', 'val_loss', 'val_accuracy'])\n"
          ]
        },
        {
          "output_type": "display_data",
          "data": {
            "text/plain": [
              "<Figure size 432x288 with 1 Axes>"
            ],
            "image/png": "[encoded data removed]"
          },
          "metadata": {
            "needs_background": "light"
          }
        },
        {
          "output_type": "display_data",
          "data": {
            "text/plain": [
              "<Figure size 432x288 with 1 Axes>"
            ],
            "image/png": "[encoded data removed]"
          },
          "metadata": {
            "needs_background": "light"
          }
        }
      ]
    },
    {
      "cell_type": "code",
      "source": [
        "history = model_13.fit(\n",
        "    {\"claim\": x_train_c, \"evidence\": x_train_e},\n",
        "    y = y_train,\n",
        "    validation_data=((x_val_c, x_val_e), y_val),\n",
        "    epochs=10,\n",
        "    batch_size=1024,\n",
        "    callbacks = [keras.callbacks.EarlyStopping(monitor='val_loss', \n",
        "                                                patience=3,\n",
        "                                                restore_best_weights=True)]\n",
        ")\n",
        "show_history(history)"
      ],
      "metadata": {
        "colab": {
          "base_uri": "https://localhost:8080/",
          "height": 764
        },
        "id": "TLwBRdEcUB5i",
        "outputId": "20c14b96-930a-463f-c391-7b9ec279fef2"
      },
      "execution_count": null,
      "outputs": [
        {
          "output_type": "stream",
          "name": "stdout",
          "text": [
            "Epoch 1/10\n",
            "119/119 [==============================] - 17s 87ms/step - loss: 0.4719 - accuracy: 0.7923 - val_loss: 0.5924 - val_accuracy: 0.7093\n",
            "Epoch 2/10\n",
            "119/119 [==============================] - 8s 69ms/step - loss: 0.3413 - accuracy: 0.8562 - val_loss: 0.5442 - val_accuracy: 0.7358\n",
            "Epoch 3/10\n",
            "119/119 [==============================] - 8s 70ms/step - loss: 0.2977 - accuracy: 0.8745 - val_loss: 0.5703 - val_accuracy: 0.7436\n",
            "Epoch 4/10\n",
            "119/119 [==============================] - 8s 71ms/step - loss: 0.2688 - accuracy: 0.8868 - val_loss: 0.5985 - val_accuracy: 0.7383\n",
            "Epoch 5/10\n",
            "119/119 [==============================] - 9s 73ms/step - loss: 0.2460 - accuracy: 0.8968 - val_loss: 0.6332 - val_accuracy: 0.7333\n",
            "Displaying the following history keys:  dict_keys(['loss', 'accuracy', 'val_loss', 'val_accuracy'])\n"
          ]
        },
        {
          "output_type": "display_data",
          "data": {
            "text/plain": [
              "<Figure size 432x288 with 1 Axes>"
            ],
            "image/png": "[encoded data removed]"
          },
          "metadata": {
            "needs_background": "light"
          }
        },
        {
          "output_type": "display_data",
          "data": {
            "text/plain": [
              "<Figure size 432x288 with 1 Axes>"
            ],
            "image/png": "[encoded data removed]"
          },
          "metadata": {
            "needs_background": "light"
          }
        }
      ]
    },
    {
      "cell_type": "markdown",
      "source": [
        "###Results\n",
        "\n",
        "| Model      | Val Accuracy |\n",
        "| ----------- | :----:   |\n",
        "| model_11   | 0.737    |\n",
        "| model_12      | 0.735       |\n",
        "| model_13   | 0.742      |\n",
        "\n",
        "In this section, we tested the sum and the mean input merging strategies, and from the results we see that (which is better?)"
      ],
      "metadata": {
        "id": "vta81e5Mq2hc"
      }
    },
    {
      "cell_type": "markdown",
      "source": [
        "##Cosine similarity extension"
      ],
      "metadata": {
        "id": "mdBgIDOS1AqW"
      }
    },
    {
      "cell_type": "markdown",
      "source": [
        "In this section we extend model_11, model_12 and model_13 with the cosine similarity metric as an additional feature to the input classification."
      ],
      "metadata": {
        "id": "K2CFoueSXPZT"
      }
    },
    {
      "cell_type": "markdown",
      "source": [
        "###Compile"
      ],
      "metadata": {
        "id": "6PP-tc4V1t_4"
      }
    },
    {
      "cell_type": "code",
      "source": [
        "# model_11 with extension\n",
        "claim_input = keras.Input(shape = (max_seq_length,), name=\"claim\") \n",
        "evidence_input = keras.Input(shape = (max_seq_length,), name=\"evidence\") \n",
        "\n",
        "claim_w_embeds = layers.Embedding(vocab_size, w_embedding_dim, mask_zero=True) (claim_input)\n",
        "evidence_w_embeds = layers.Embedding(vocab_size, w_embedding_dim, mask_zero=True) (evidence_input)\n",
        "\n",
        "claim_features = layers.LSTM(s_embedding_dim,) (claim_w_embeds)\n",
        "evidence_features = layers.LSTM(s_embedding_dim) (evidence_w_embeds)\n",
        "\n",
        "cosine = tf.keras.layers.Dot(axes=1, normalize=True)([claim_features, evidence_features])\n",
        "\n",
        "concat = layers.concatenate([claim_features, evidence_features, cosine])\n",
        "\n",
        "output = layers.Dense(1, activation= 'sigmoid') (concat)\n",
        "\n",
        "model_11x = create_model()\n",
        "\n",
        "keras.utils.plot_model(model_11x, \"model_11x.png\", show_shapes=True)"
      ],
      "metadata": {
        "colab": {
          "base_uri": "https://localhost:8080/",
          "height": 1000
        },
        "id": "-B0SmUg09r-u",
        "outputId": "1d396568-3f54-49a9-d7cb-f3c20eb2b0eb"
      },
      "execution_count": null,
      "outputs": [
        {
          "output_type": "stream",
          "name": "stdout",
          "text": [
            "Model: \"model_6\"\n",
            "__________________________________________________________________________________________________\n",
            " Layer (type)                   Output Shape         Param #     Connected to                     \n",
            "==================================================================================================\n",
            " claim (InputLayer)             [(None, 123)]        0           []                               \n",
            "                                                                                                  \n",
            " evidence (InputLayer)          [(None, 123)]        0           []                               \n",
            "                                                                                                  \n",
            " embedding_12 (Embedding)       (None, 123, 200)     7158000     ['claim[0][0]']                  \n",
            "                                                                                                  \n",
            " embedding_13 (Embedding)       (None, 123, 200)     7158000     ['evidence[0][0]']               \n",
            "                                                                                                  \n",
            " lstm_8 (LSTM)                  (None, 128)          168448      ['embedding_12[0][0]']           \n",
            "                                                                                                  \n",
            " lstm_9 (LSTM)                  (None, 128)          168448      ['embedding_13[0][0]']           \n",
            "                                                                                                  \n",
            " dot (Dot)                      (None, 1)            0           ['lstm_8[0][0]',                 \n",
            "                                                                  'lstm_9[0][0]']                 \n",
            "                                                                                                  \n",
            " concatenate_4 (Concatenate)    (None, 257)          0           ['lstm_8[0][0]',                 \n",
            "                                                                  'lstm_9[0][0]',                 \n",
            "                                                                  'dot[0][0]']                    \n",
            "                                                                                                  \n",
            " dense_8 (Dense)                (None, 1)            258         ['concatenate_4[0][0]']          \n",
            "                                                                                                  \n",
            "==================================================================================================\n",
            "Total params: 14,653,154\n",
            "Trainable params: 14,653,154\n",
            "Non-trainable params: 0\n",
            "__________________________________________________________________________________________________\n"
          ]
        },
        {
          "output_type": "execute_result",
          "data": {
            "image/png": "[encoded data removed]",
            "text/plain": [
              "<IPython.core.display.Image object>"
            ]
          },
          "metadata": {},
          "execution_count": 36
        }
      ]
    },
    {
      "cell_type": "code",
      "source": [
        "# model_12 with extension\n",
        "claim_input = keras.Input(shape = (max_seq_length,), name=\"claim\") \n",
        "evidence_input = keras.Input(shape = (max_seq_length,), name=\"evidence\") \n",
        "\n",
        "claim_w_embeds = layers.Embedding(vocab_size, w_embedding_dim, mask_zero=True) (claim_input)\n",
        "evidence_w_embeds = layers.Embedding(vocab_size, w_embedding_dim, mask_zero=True) (evidence_input)\n",
        "\n",
        "claim_features = layers.LSTM(s_embedding_dim) (claim_w_embeds)\n",
        "evidence_features = layers.LSTM(s_embedding_dim) (evidence_w_embeds)\n",
        "\n",
        "cosine = tf.keras.layers.Dot(axes=1, normalize=True)([claim_features, evidence_features])\n",
        "add = layers.Add() ([claim_features, evidence_features])\n",
        "\n",
        "concat = layers.concatenate([add, cosine])\n",
        "\n",
        "output = layers.Dense(1, activation= 'sigmoid') (concat)\n",
        "\n",
        "model_12x = create_model()\n",
        "\n",
        "keras.utils.plot_model(model_12x, \"model_12x.png\", show_shapes=True)"
      ],
      "metadata": {
        "colab": {
          "base_uri": "https://localhost:8080/",
          "height": 1000
        },
        "id": "Bnt2KXoaYFBO",
        "outputId": "8ccbd6a6-0fca-424e-d66e-0259ea7c370f"
      },
      "execution_count": null,
      "outputs": [
        {
          "output_type": "stream",
          "name": "stdout",
          "text": [
            "Model: \"model_7\"\n",
            "__________________________________________________________________________________________________\n",
            " Layer (type)                   Output Shape         Param #     Connected to                     \n",
            "==================================================================================================\n",
            " claim (InputLayer)             [(None, 123)]        0           []                               \n",
            "                                                                                                  \n",
            " evidence (InputLayer)          [(None, 123)]        0           []                               \n",
            "                                                                                                  \n",
            " embedding_14 (Embedding)       (None, 123, 200)     7158000     ['claim[0][0]']                  \n",
            "                                                                                                  \n",
            " embedding_15 (Embedding)       (None, 123, 200)     7158000     ['evidence[0][0]']               \n",
            "                                                                                                  \n",
            " lstm_10 (LSTM)                 (None, 128)          168448      ['embedding_14[0][0]']           \n",
            "                                                                                                  \n",
            " lstm_11 (LSTM)                 (None, 128)          168448      ['embedding_15[0][0]']           \n",
            "                                                                                                  \n",
            " add_1 (Add)                    (None, 128)          0           ['lstm_10[0][0]',                \n",
            "                                                                  'lstm_11[0][0]']                \n",
            "                                                                                                  \n",
            " dot_1 (Dot)                    (None, 1)            0           ['lstm_10[0][0]',                \n",
            "                                                                  'lstm_11[0][0]']                \n",
            "                                                                                                  \n",
            " concatenate_5 (Concatenate)    (None, 129)          0           ['add_1[0][0]',                  \n",
            "                                                                  'dot_1[0][0]']                  \n",
            "                                                                                                  \n",
            " dense_9 (Dense)                (None, 1)            130         ['concatenate_5[0][0]']          \n",
            "                                                                                                  \n",
            "==================================================================================================\n",
            "Total params: 14,653,026\n",
            "Trainable params: 14,653,026\n",
            "Non-trainable params: 0\n",
            "__________________________________________________________________________________________________\n"
          ]
        },
        {
          "output_type": "execute_result",
          "data": {
            "image/png": "[encoded data removed]",
            "text/plain": [
              "<IPython.core.display.Image object>"
            ]
          },
          "metadata": {},
          "execution_count": 37
        }
      ]
    },
    {
      "cell_type": "code",
      "source": [
        "# model_13 with extension\n",
        "claim_input = keras.Input(shape = (max_seq_length,), name=\"claim\") \n",
        "evidence_input = keras.Input(shape = (max_seq_length,), name=\"evidence\") \n",
        "\n",
        "claim_w_embeds = layers.Embedding(vocab_size, w_embedding_dim, mask_zero=True) (claim_input)\n",
        "evidence_w_embeds = layers.Embedding(vocab_size, w_embedding_dim, mask_zero=True) (evidence_input)\n",
        "\n",
        "claim_features = layers.LSTM(s_embedding_dim) (claim_w_embeds)\n",
        "evidence_features = layers.LSTM(s_embedding_dim) (evidence_w_embeds)\n",
        "\n",
        "cosine = tf.keras.layers.Dot(axes=1, normalize=True)([claim_features, evidence_features])\n",
        "mean = layers.Average() ([claim_features, evidence_features])\n",
        "\n",
        "concat = layers.concatenate([mean, cosine])\n",
        "\n",
        "output = layers.Dense(1, activation= 'sigmoid') (concat)\n",
        "\n",
        "model_13x = create_model()\n",
        "\n",
        "keras.utils.plot_model(model_13x, \"model_13x.png\", show_shapes=True)"
      ],
      "metadata": {
        "colab": {
          "base_uri": "https://localhost:8080/",
          "height": 1000
        },
        "id": "6sQ4Rj8VZehK",
        "outputId": "e5cb2c4a-10d6-4a15-ec47-bf8715baaf45"
      },
      "execution_count": null,
      "outputs": [
        {
          "output_type": "stream",
          "name": "stdout",
          "text": [
            "Model: \"model_8\"\n",
            "__________________________________________________________________________________________________\n",
            " Layer (type)                   Output Shape         Param #     Connected to                     \n",
            "==================================================================================================\n",
            " claim (InputLayer)             [(None, 123)]        0           []                               \n",
            "                                                                                                  \n",
            " evidence (InputLayer)          [(None, 123)]        0           []                               \n",
            "                                                                                                  \n",
            " embedding_16 (Embedding)       (None, 123, 200)     7158000     ['claim[0][0]']                  \n",
            "                                                                                                  \n",
            " embedding_17 (Embedding)       (None, 123, 200)     7158000     ['evidence[0][0]']               \n",
            "                                                                                                  \n",
            " lstm_12 (LSTM)                 (None, 128)          168448      ['embedding_16[0][0]']           \n",
            "                                                                                                  \n",
            " lstm_13 (LSTM)                 (None, 128)          168448      ['embedding_17[0][0]']           \n",
            "                                                                                                  \n",
            " average_1 (Average)            (None, 128)          0           ['lstm_12[0][0]',                \n",
            "                                                                  'lstm_13[0][0]']                \n",
            "                                                                                                  \n",
            " dot_2 (Dot)                    (None, 1)            0           ['lstm_12[0][0]',                \n",
            "                                                                  'lstm_13[0][0]']                \n",
            "                                                                                                  \n",
            " concatenate_6 (Concatenate)    (None, 129)          0           ['average_1[0][0]',              \n",
            "                                                                  'dot_2[0][0]']                  \n",
            "                                                                                                  \n",
            " dense_10 (Dense)               (None, 1)            130         ['concatenate_6[0][0]']          \n",
            "                                                                                                  \n",
            "==================================================================================================\n",
            "Total params: 14,653,026\n",
            "Trainable params: 14,653,026\n",
            "Non-trainable params: 0\n",
            "__________________________________________________________________________________________________\n"
          ]
        },
        {
          "output_type": "execute_result",
          "data": {
            "image/png": "[encoded data removed]",
            "text/plain": [
              "<IPython.core.display.Image object>"
            ]
          },
          "metadata": {},
          "execution_count": 38
        }
      ]
    },
    {
      "cell_type": "markdown",
      "source": [
        "###Train"
      ],
      "metadata": {
        "id": "xk0FVzxj_cc8"
      }
    },
    {
      "cell_type": "code",
      "source": [
        "history = model_11x.fit(\n",
        "    {\"claim\": x_train_c, \"evidence\": x_train_e},\n",
        "    y = y_train,\n",
        "    validation_data=((x_val_c, x_val_e), y_val),\n",
        "    epochs=10,\n",
        "    batch_size=1024,\n",
        "    callbacks = [keras.callbacks.EarlyStopping(monitor='val_loss', \n",
        "                                                patience=3,\n",
        "                                                restore_best_weights=True)]\n",
        ")\n",
        "show_history(history)"
      ],
      "metadata": {
        "colab": {
          "base_uri": "https://localhost:8080/",
          "height": 764
        },
        "id": "HRdFJBy0_O6j",
        "outputId": "072a1de5-a04a-4af5-d27a-5970715cf3ac"
      },
      "execution_count": null,
      "outputs": [
        {
          "output_type": "stream",
          "name": "stdout",
          "text": [
            "Epoch 1/10\n",
            "119/119 [==============================] - 17s 87ms/step - loss: 0.4640 - accuracy: 0.7967 - val_loss: 0.5977 - val_accuracy: 0.7059\n",
            "Epoch 2/10\n",
            "119/119 [==============================] - 8s 70ms/step - loss: 0.3385 - accuracy: 0.8565 - val_loss: 0.5758 - val_accuracy: 0.7306\n",
            "Epoch 3/10\n",
            "119/119 [==============================] - 9s 72ms/step - loss: 0.2942 - accuracy: 0.8760 - val_loss: 0.5822 - val_accuracy: 0.7371\n",
            "Epoch 4/10\n",
            "119/119 [==============================] - 9s 75ms/step - loss: 0.2644 - accuracy: 0.8878 - val_loss: 0.6244 - val_accuracy: 0.7311\n",
            "Epoch 5/10\n",
            "119/119 [==============================] - 9s 75ms/step - loss: 0.2397 - accuracy: 0.8980 - val_loss: 0.6415 - val_accuracy: 0.7340\n",
            "Displaying the following history keys:  dict_keys(['loss', 'accuracy', 'val_loss', 'val_accuracy'])\n"
          ]
        },
        {
          "output_type": "display_data",
          "data": {
            "text/plain": [
              "<Figure size 432x288 with 1 Axes>"
            ],
            "image/png": "[encoded data removed]"
          },
          "metadata": {
            "needs_background": "light"
          }
        },
        {
          "output_type": "display_data",
          "data": {
            "text/plain": [
              "<Figure size 432x288 with 1 Axes>"
            ],
            "image/png": "[encoded data removed]"
          },
          "metadata": {
            "needs_background": "light"
          }
        }
      ]
    },
    {
      "cell_type": "code",
      "source": [
        "history = model_12x.fit(\n",
        "    {\"claim\": x_train_c, \"evidence\": x_train_e},\n",
        "    y = y_train,\n",
        "    validation_data=((x_val_c, x_val_e), y_val),\n",
        "    epochs=10,\n",
        "    batch_size=1024,\n",
        "    callbacks = [keras.callbacks.EarlyStopping(monitor='val_loss', \n",
        "                                                patience=3,\n",
        "                                                restore_best_weights=True)]\n",
        ")\n",
        "show_history(history)"
      ],
      "metadata": {
        "colab": {
          "base_uri": "https://localhost:8080/",
          "height": 729
        },
        "id": "-ppoS7bfdoPH",
        "outputId": "9be174be-8bd4-4ee1-e36a-46779034e1ef"
      },
      "execution_count": null,
      "outputs": [
        {
          "output_type": "stream",
          "name": "stdout",
          "text": [
            "Epoch 1/10\n",
            "119/119 [==============================] - 18s 92ms/step - loss: 0.4603 - accuracy: 0.7978 - val_loss: 0.5742 - val_accuracy: 0.7125\n",
            "Epoch 2/10\n",
            "119/119 [==============================] - 9s 73ms/step - loss: 0.3370 - accuracy: 0.8575 - val_loss: 0.5832 - val_accuracy: 0.7237\n",
            "Epoch 3/10\n",
            "119/119 [==============================] - 9s 76ms/step - loss: 0.2952 - accuracy: 0.8757 - val_loss: 0.5867 - val_accuracy: 0.7337\n",
            "Epoch 4/10\n",
            "119/119 [==============================] - 9s 76ms/step - loss: 0.2671 - accuracy: 0.8869 - val_loss: 0.6455 - val_accuracy: 0.7312\n",
            "Displaying the following history keys:  dict_keys(['loss', 'accuracy', 'val_loss', 'val_accuracy'])\n"
          ]
        },
        {
          "output_type": "display_data",
          "data": {
            "text/plain": [
              "<Figure size 432x288 with 1 Axes>"
            ],
            "image/png": "[encoded data removed]"
          },
          "metadata": {
            "needs_background": "light"
          }
        },
        {
          "output_type": "display_data",
          "data": {
            "text/plain": [
              "<Figure size 432x288 with 1 Axes>"
            ],
            "image/png": "[encoded data removed]"
          },
          "metadata": {
            "needs_background": "light"
          }
        }
      ]
    },
    {
      "cell_type": "code",
      "source": [
        "history = model_13x.fit(\n",
        "    {\"claim\": x_train_c, \"evidence\": x_train_e},\n",
        "    y = y_train,\n",
        "    validation_data=((x_val_c, x_val_e), y_val),\n",
        "    epochs=10,\n",
        "    batch_size=1024,\n",
        "    callbacks = [keras.callbacks.EarlyStopping(monitor='val_loss', \n",
        "                                                patience=3,\n",
        "                                                restore_best_weights=True)]\n",
        ")\n",
        "show_history(history)"
      ],
      "metadata": {
        "colab": {
          "base_uri": "https://localhost:8080/",
          "height": 764
        },
        "id": "QchjZSiydpix",
        "outputId": "e1d524b8-f99e-4cfd-f61a-c80d3a1a7d17"
      },
      "execution_count": null,
      "outputs": [
        {
          "output_type": "stream",
          "name": "stdout",
          "text": [
            "Epoch 1/10\n",
            "119/119 [==============================] - 18s 94ms/step - loss: 0.4795 - accuracy: 0.7907 - val_loss: 0.5780 - val_accuracy: 0.7069\n",
            "Epoch 2/10\n",
            "119/119 [==============================] - 9s 73ms/step - loss: 0.3474 - accuracy: 0.8530 - val_loss: 0.5600 - val_accuracy: 0.7285\n",
            "Epoch 3/10\n",
            "119/119 [==============================] - 9s 76ms/step - loss: 0.3001 - accuracy: 0.8738 - val_loss: 0.5884 - val_accuracy: 0.7350\n",
            "Epoch 4/10\n",
            "119/119 [==============================] - 9s 76ms/step - loss: 0.2686 - accuracy: 0.8869 - val_loss: 0.6087 - val_accuracy: 0.7316\n",
            "Epoch 5/10\n",
            "119/119 [==============================] - 9s 78ms/step - loss: 0.2448 - accuracy: 0.8969 - val_loss: 0.6429 - val_accuracy: 0.7347\n",
            "Displaying the following history keys:  dict_keys(['loss', 'accuracy', 'val_loss', 'val_accuracy'])\n"
          ]
        },
        {
          "output_type": "display_data",
          "data": {
            "text/plain": [
              "<Figure size 432x288 with 1 Axes>"
            ],
            "image/png": "[encoded data removed]"
          },
          "metadata": {
            "needs_background": "light"
          }
        },
        {
          "output_type": "display_data",
          "data": {
            "text/plain": [
              "<Figure size 432x288 with 1 Axes>"
            ],
            "image/png": "[encoded data removed]"
          },
          "metadata": {
            "needs_background": "light"
          }
        }
      ]
    },
    {
      "cell_type": "markdown",
      "source": [
        "###Results\n",
        "\n",
        "| Model      | Val Accuracy |   \n",
        "| ----------- | :----:   |\n",
        "| model_11x   | 0.741    |\n",
        "| model_12x      | 0.741 |\n",
        "| model_13x   | 0.738    |\n",
        "\n",
        "| Model      | Val Accuracy |\n",
        "| ----------- | :----:   |\n",
        "| model_11   | 0.737    |\n",
        "| model_12      | 0.735       |\n",
        "| model_13   | 0.742      |\n",
        "\n",
        "As we can see from the results, the cosine similarity extension had a small positive (0.4% for 11x and 0.6% for 12x) or negative effect (-0.4%) on the validation accuracy of the model.\n",
        "\n",
        "Since model_11x, model_12x and model_13 achieved very similar validation results we decided to evaluate all of them on the test set."
      ],
      "metadata": {
        "id": "UZVsbdtkeUuN"
      }
    },
    {
      "cell_type": "markdown",
      "source": [
        "#lll- Evaluation"
      ],
      "metadata": {
        "id": "vyenpDrgqoKj"
      }
    },
    {
      "cell_type": "markdown",
      "source": [
        "##Evaluation setup"
      ],
      "metadata": {
        "id": "kKeKR75J89aq"
      }
    },
    {
      "cell_type": "markdown",
      "source": [
        "For the 2nd evaluation method, in order to evaluate a claim prediction based on all of its evidence sentences, we need 2 new arrays:\n",
        "* **unique_predicitons**: claim-specific predictions that aggregate the classification results for each claim by majority voting \n",
        "* **y_test_unique**: claim-specific true labels.\n",
        "\n",
        "We create **y_test_unique** by removing rows with duplicate IDs in the test split which is straightforward. These will be the claim-specific true labels.\n",
        "\n",
        "For the **unique_predicitons**, it is a bit more complicated since the model is unaware of the ID of each prediction. \n",
        "To solve this, we initialize a dictionary Votes where for each id in the test split, Votes[id] = (id, votes=0). \n",
        "To fill it, we accumulate for each ID the number of supporting and refuting predictions from the model predictions. This process is described below. \n",
        "\n",
        "For each model prediction:\n",
        "\n",
        "1. we fetch its claim ID from the duplicates-free test dataframe based on index\n",
        "2. if label is 1 --> increment corresponding value in Votes, 0 --> decrement\n",
        "\n",
        "Then, we need to \n",
        "then for each ID in the dictionary:\n",
        "\n",
        "* if #votes > 0: y = 1\n",
        "* if #votes = 0: y = random value of 0 or 1, since they are too few (<0.3% of result)\n",
        "* if #votes < 0: y = 0"
      ],
      "metadata": {
        "id": "zQSi0P9txpeG"
      }
    },
    {
      "cell_type": "code",
      "source": [
        "from sklearn.metrics import accuracy_score, precision_score, recall_score, f1_score, confusion_matrix, classification_report\n",
        "from sklearn.metrics import ConfusionMatrixDisplay\n",
        "\n",
        "\n",
        "def unique_x_y(predictions: np.ndarray):\n",
        "    \"\"\"\n",
        "    Generates claim-specific predictions and labels to use in the\n",
        "    majority voting evaluation type\n",
        "\n",
        "    :param predictions: rounded model predictions in np.ndarray format\n",
        "\n",
        "    :return\n",
        "        unique_x: predictions based on majority voting\n",
        "        unique_y: claim-specific labels\n",
        "    \"\"\"\n",
        "\n",
        "    # extract test split and reset index\n",
        "    global test_df\n",
        "    test_df = dfc.loc[dfc['split']=='test'].reset_index(drop=True)\n",
        "\n",
        "    # initialize dictionary of (id, votes) pairs\n",
        "    global Votes\n",
        "    Votes = {}\n",
        "    for id in test_df['ID']:\n",
        "        if id not in Votes: Votes[id] = 0\n",
        "\n",
        "    # fill dict votes by implementing majority voting\n",
        "    for i in range(len(predictions)):\n",
        "        id = test_df.iat[i, 2]\n",
        "        if predictions[i] == 1:\n",
        "            Votes[id] += 1\n",
        "        else: \n",
        "            Votes[id] -=1\n",
        "\n",
        "    # create unique_y by dropping duplicates from test split\n",
        "    df_unique_ids = test_df.drop_duplicates('ID')\n",
        "    unique_y = df_unique_ids['Label'].values\n",
        "\n",
        "    # create unique_x based on votes from dict Votes\n",
        "    unique_x = np.zeros((len(unique_y),), dtype=np.uint8)\n",
        "\n",
        "    for i in range(len(unique_x)):\n",
        "        id = df_unique_ids.iat[i,2]\n",
        "        if  Votes[id] > 0: \n",
        "            unique_x[i] = 1 \n",
        "        elif Votes[id] == 0: \n",
        "            unique_x[i] = np.random.randint(0, 2, dtype=np.uint8)\n",
        "\n",
        "    assert(len(unique_x) == len(unique_y))\n",
        "\n",
        "    return unique_x, unique_y\n",
        "\n",
        "def evaluate_predictions(predictions: np.ndarray,\n",
        "                         y: np.ndarray,\n",
        "                         metrics: List[Callable],\n",
        "                         metric_names: List[str]):\n",
        "    \"\"\"\n",
        "    Evaluates given model predictions on a list of metric functions\n",
        "\n",
        "    :param predictions: model predictions in np.ndarray format\n",
        "    :param y: ground-truth labels in np.ndarray format\n",
        "    :param metrics: list of metric functions\n",
        "    :param metric_names: list of metric names\n",
        "\n",
        "    :return\n",
        "        metric_info: dictionary containing metric values for each input metric\n",
        "    \"\"\"\n",
        "\n",
        "    assert len(metrics) == len(metric_names)\n",
        "\n",
        "    print(\"Total samples: \", y.shape[0])\n",
        "\n",
        "    metric_info = {}\n",
        "\n",
        "    for metric, metric_name in zip(metrics, metric_names):\n",
        "        metric_value = metric(y_pred=predictions, y_true=y)\n",
        "        metric_info[metric_name] = metric_value\n",
        "\n",
        "    return metric_info\n",
        "\n",
        "def evaluate(predictions: np.ndarray,\n",
        "             y: np.ndarray):\n",
        "    \"\"\"\n",
        "    Displays confusion matrix and evaluation metrics\n",
        "\n",
        "    :param predictions: rounded model predictions in np.ndarray format\n",
        "    :param y: ground-truth labels in np.ndarray format\n",
        "    \"\"\"\n",
        "\n",
        "    metrics = [\n",
        "        accuracy_score,\n",
        "        precision_score,\n",
        "        recall_score,\n",
        "        f1_score,\n",
        "    ]\n",
        "    metric_names = [\n",
        "        \"accuracy\",\n",
        "        'precision',\n",
        "        'recall',\n",
        "        \"f1\"\n",
        "    ]\n",
        "\n",
        "    metric_info = evaluate_predictions(predictions=predictions,\n",
        "                                       y=y,\n",
        "                                       metrics=metrics,\n",
        "                                       metric_names=metric_names)\n",
        "    print('Metrics info: \\n{}'.format(metric_info))\n",
        "    print()\n",
        "\n",
        "    report = classification_report(y, predictions)\n",
        "    print(report)"
      ],
      "metadata": {
        "id": "cPVp6ilY5XVw"
      },
      "execution_count": null,
      "outputs": []
    },
    {
      "cell_type": "markdown",
      "source": [
        "##Inference"
      ],
      "metadata": {
        "id": "MKcNMWnM-hKM"
      }
    },
    {
      "cell_type": "markdown",
      "source": [
        "###Model 13"
      ],
      "metadata": {
        "id": "WofezoUrr-p0"
      }
    },
    {
      "cell_type": "code",
      "source": [
        "# predict and evaluate model 13\n",
        "\n",
        "predictions = model_13.predict( {\"claim\": x_test_c, \"evidence\": x_test_e})\n",
        "predictions = predictions.round()\n",
        "unique_predictions, unique_labels = unique_x_y(predictions)\n",
        "\n",
        "print('Evaluation type 1:\\n')\n",
        "evaluate(predictions, y_test)\n",
        "print()\n",
        "\n",
        "print('Evaluation type 2:\\n')\n",
        "evaluate(unique_predictions, unique_labels)"
      ],
      "metadata": {
        "colab": {
          "base_uri": "https://localhost:8080/"
        },
        "id": "Kla-VlbwsE0i",
        "outputId": "a9bc9ab7-9e9d-4049-a9f5-7700682a0978"
      },
      "execution_count": null,
      "outputs": [
        {
          "output_type": "stream",
          "name": "stdout",
          "text": [
            "Evaluation type 1:\n",
            "\n",
            "Total samples:  7189\n",
            "Metrics info: \n",
            "{'accuracy': 0.7188760606482125, 'precision': 0.6613067372277631, 'recall': 0.9009983361064892, 'f1': 0.7627655828148844}\n",
            "\n",
            "              precision    recall  f1-score   support\n",
            "\n",
            "           0       0.84      0.54      0.66      3583\n",
            "           1       0.66      0.90      0.76      3606\n",
            "\n",
            "    accuracy                           0.72      7189\n",
            "   macro avg       0.75      0.72      0.71      7189\n",
            "weighted avg       0.75      0.72      0.71      7189\n",
            "\n",
            "\n",
            "Evaluation type 2:\n",
            "\n",
            "Total samples:  6613\n",
            "Metrics info: \n",
            "{'accuracy': 0.7181309541811584, 'precision': 0.6601640434493461, 'recall': 0.8999697793895437, 'f1': 0.7616368286445012}\n",
            "\n",
            "              precision    recall  f1-score   support\n",
            "\n",
            "           0       0.84      0.54      0.66      3304\n",
            "           1       0.66      0.90      0.76      3309\n",
            "\n",
            "    accuracy                           0.72      6613\n",
            "   macro avg       0.75      0.72      0.71      6613\n",
            "weighted avg       0.75      0.72      0.71      6613\n",
            "\n"
          ]
        }
      ]
    },
    {
      "cell_type": "markdown",
      "source": [
        "###Models 11x, 12x"
      ],
      "metadata": {
        "id": "S3_tp9JCya1w"
      }
    },
    {
      "cell_type": "code",
      "source": [
        "# predict and evaluate model 11x\n",
        "\n",
        "predictions = model_11x.predict( {\"claim\": x_test_c, \"evidence\": x_test_e})\n",
        "predictions = predictions.round()\n",
        "unique_predictions, unique_labels = unique_x_y(predictions)\n",
        "\n",
        "print('Evaluation type 1:\\n')\n",
        "evaluate(predictions, y_test)\n",
        "print()\n",
        "\n",
        "print('Evaluation type 2:\\n')\n",
        "evaluate(unique_predictions, unique_labels)"
      ],
      "metadata": {
        "colab": {
          "base_uri": "https://localhost:8080/"
        },
        "id": "yl56kfCSyf9j",
        "outputId": "acba6601-acdc-4105-c227-4e796d243cbf"
      },
      "execution_count": null,
      "outputs": [
        {
          "output_type": "stream",
          "name": "stdout",
          "text": [
            "Evaluation type 1:\n",
            "\n",
            "Total samples:  7189\n",
            "Metrics info: \n",
            "{'accuracy': 0.7113645847823064, 'precision': 0.6537457320747138, 'recall': 0.9026622296173045, 'f1': 0.7582993593476995}\n",
            "\n",
            "              precision    recall  f1-score   support\n",
            "\n",
            "           0       0.84      0.52      0.64      3583\n",
            "           1       0.65      0.90      0.76      3606\n",
            "\n",
            "    accuracy                           0.71      7189\n",
            "   macro avg       0.75      0.71      0.70      7189\n",
            "weighted avg       0.75      0.71      0.70      7189\n",
            "\n",
            "\n",
            "Evaluation type 2:\n",
            "\n",
            "Total samples:  6613\n",
            "Metrics info: \n",
            "{'accuracy': 0.7107213065174656, 'precision': 0.6527352297592998, 'recall': 0.9014808099123602, 'f1': 0.7572026906967888}\n",
            "\n",
            "              precision    recall  f1-score   support\n",
            "\n",
            "           0       0.84      0.52      0.64      3304\n",
            "           1       0.65      0.90      0.76      3309\n",
            "\n",
            "    accuracy                           0.71      6613\n",
            "   macro avg       0.75      0.71      0.70      6613\n",
            "weighted avg       0.75      0.71      0.70      6613\n",
            "\n"
          ]
        }
      ]
    },
    {
      "cell_type": "code",
      "source": [
        "# predict and evaluate model 12x\n",
        "\n",
        "predictions = model_12x.predict( {\"claim\": x_test_c, \"evidence\": x_test_e})\n",
        "predictions = predictions.round()\n",
        "unique_predictions, unique_labels = unique_x_y(predictions)\n",
        "\n",
        "print('Evaluation type 1:\\n')\n",
        "evaluate(predictions, y_test)\n",
        "print()\n",
        "\n",
        "print('Evaluation type 2:\\n')\n",
        "evaluate(unique_predictions, unique_labels)"
      ],
      "metadata": {
        "colab": {
          "base_uri": "https://localhost:8080/"
        },
        "id": "MzdRqO_Pyf1d",
        "outputId": "b5c96234-50d4-4cd4-8886-4f796ff3de4f"
      },
      "execution_count": null,
      "outputs": [
        {
          "output_type": "stream",
          "name": "stdout",
          "text": [
            "Evaluation type 1:\n",
            "\n",
            "Total samples:  7189\n",
            "Metrics info: \n",
            "{'accuracy': 0.699401863958826, 'precision': 0.6364494806421152, 'recall': 0.9345535219079312, 'f1': 0.7572182900797663}\n",
            "\n",
            "              precision    recall  f1-score   support\n",
            "\n",
            "           0       0.88      0.46      0.61      3583\n",
            "           1       0.64      0.93      0.76      3606\n",
            "\n",
            "    accuracy                           0.70      7189\n",
            "   macro avg       0.76      0.70      0.68      7189\n",
            "weighted avg       0.76      0.70      0.68      7189\n",
            "\n",
            "\n",
            "Evaluation type 2:\n",
            "\n",
            "Total samples:  6613\n",
            "Metrics info: \n",
            "{'accuracy': 0.6986239225767428, 'precision': 0.6352796052631579, 'recall': 0.9338168631006346, 'f1': 0.7561482931604062}\n",
            "\n",
            "              precision    recall  f1-score   support\n",
            "\n",
            "           0       0.87      0.46      0.61      3304\n",
            "           1       0.64      0.93      0.76      3309\n",
            "\n",
            "    accuracy                           0.70      6613\n",
            "   macro avg       0.76      0.70      0.68      6613\n",
            "weighted avg       0.75      0.70      0.68      6613\n",
            "\n"
          ]
        }
      ]
    },
    {
      "cell_type": "markdown",
      "source": [
        "#Test Results\n",
        "\n",
        "| Model      | F1 score |   \n",
        "| ----------- | :----:   |\n",
        "| model_13   | 0.762    |\n",
        "| model_11x      | 0.758 |\n",
        "| model_12x   | 0.757    |"
      ],
      "metadata": {
        "id": "ata5vDPOafgY"
      }
    },
    {
      "cell_type": "markdown",
      "source": [
        "From the results we see that the F1 score was consistenlty better in all models for the SUPPORT class than for the REFUTE class, and that may be due to the class imbalance in the training set that favours the SUPPORT class.\n",
        "\n",
        "Moreover, while 8.7% of the claims had multiple evidences, given by\n",
        "\n",
        "```(total nb of test claims - nb of duplicate test claims) / total nb of test claims```\n",
        "\n",
        "the results barely varied between the 1st and 2nd evaluation type (w/o vs with majority voting), precisely by a maximum of 0.3%"
      ],
      "metadata": {
        "id": "CKOvbIujuSbx"
      }
    },
    {
      "cell_type": "code",
      "source": [
        "from sklearn.metrics import PrecisionRecallDisplay\n",
        "predictions = model_31.predict( {\"claim\": x_test_c, \"evidence\": x_test_e})\n",
        "display = PrecisionRecallDisplay.from_predictions(y_test, predictions, name=\"model\")\n",
        "_ = display.ax_.set_title(\"Precision-Recall curve\")\n",
        "del display"
      ],
      "metadata": {
        "colab": {
          "base_uri": "https://localhost:8080/",
          "height": 295
        },
        "id": "ifDsUpXVyxqy",
        "outputId": "8d307e16-334a-4772-893c-417d3b77e348"
      },
      "execution_count": null,
      "outputs": [
        {
          "output_type": "display_data",
          "data": {
            "text/plain": [
              "<Figure size 432x288 with 1 Axes>"
            ],
            "image/png": "[encoded data removed]"
          },
          "metadata": {
            "needs_background": "light"
          }
        }
      ]
    }
  ],
  "metadata": {
    "colab": {
      "name": "ass2 pre-final",
      "provenance": [],
      "toc_visible": true
    },
    "kernelspec": {
      "display_name": "Python 3",
      "name": "python3"
    },
    "language_info": {
      "name": "python"
    },
    "accelerator": "GPU",
    "gpuClass": "standard"
  },
  "nbformat": 4,
  "nbformat_minor": 0
}